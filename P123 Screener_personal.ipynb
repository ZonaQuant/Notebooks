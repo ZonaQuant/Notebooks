{
  "nbformat": 4,
  "nbformat_minor": 0,
  "metadata": {
    "colab": {
      "name": "Untitled1.ipynb",
      "provenance": []
    },
    "kernelspec": {
      "name": "python3",
      "display_name": "Python 3"
    }
  },
  "cells": [
    {
      "cell_type": "code",
      "metadata": {
        "id": "VA65UaC_pyU6"
      },
      "source": [
        "import p123api\r\n",
        "\r\n",
        "try:\r\n",
        "    client = p123api.Client(api_id='xx', api_key='xxxxxxxxxxxxxxxxxxxxxxxxxxxxxxxx') #Insert your API Id and Key\r\n",
        "\r\n",
        "    print(client.screen_rolling_backtest(\r\n",
        "        {\r\n",
        "            'screen': 1094,                 #P123 public Piotrosk screen\r\n",
        "            'startDt': \"2020-01-01\",\r\n",
        "            # Optional parameters\r\n",
        "            'endDt': \"2020-06-01\",\r\n",
        "            'pitMethod': 'Prelim',          #Prelim or Complet\r\n",
        "            'precision': 2,                 #2,3,4\r\n",
        "            'transPrice': 3,                #1 - Next Open, 4 - Next Close, 3 - Next Average of Hi and Low\r\n",
        "            'maxPosPct': 0,\r\n",
        "            'slippage': 0.25,\r\n",
        "            'longWeight': 100,\r\n",
        "            'shortWeight': 100,\r\n",
        "            'frequency': \"Every 4 Weeks\",   #Every Week or Every 4 Weeks\r\n",
        "            'holdingPeriod': 182            #Holding period (days). From 1 to 730.\r\n",
        "        }\r\n",
        "        ))\r\n",
        "except p123api.ClientException as e:\r\n",
        "    print(e)\r\n"
      ],
      "execution_count": null,
      "outputs": []
    },
    {
      "cell_type": "code",
      "metadata": {
        "id": "GKitUh8GvsQk"
      },
      "source": [
        "import p123api\r\n",
        "\r\n",
        "try:\r\n",
        "    client = p123api.Client(api_id='XX', api_key='XXXXXXXXXXXXXXXXXXXXXXXXXXXXXXXXXXXX')  #Your ID and Key\r\n",
        "\r\n",
        "    print(client.screen_rolling_backtest(\r\n",
        "        {\r\n",
        "            'screen': {\r\n",
        "                'type': 'stock',                # Stock or ETF\r\n",
        "                'universe': 'SP500',\r\n",
        "                'maxNumHoldings': 10,           # 0 for all\r\n",
        "                'method': 'long/short',         # long, short, long/short or hedged\r\n",
        "                'benchmark': 'SPY',\r\n",
        "                'ranking': 'Core: Value',\r\n",
        "                'rules': [  #tip:square brackets mean that it is an array\r\n",
        "                    {\r\n",
        "                        'formula': 'PEGST<2',\r\n",
        "                        'type': 'common'\r\n",
        "                    },\r\n",
        "                    {\r\n",
        "                        'formula': '!universe($ADR)',\r\n",
        "                        'type': 'common'\r\n",
        "                    },\r\n",
        "                    {\r\n",
        "                        'formula': 'FCFTTM>0',\r\n",
        "                        'type': 'long'\r\n",
        "                   },\r\n",
        "                   {\r\n",
        "                       'formula': 'ema(5,0,#spepscy)<ema(20,0,#spepscy)',\r\n",
        "                       'type': 'short'  #only use type param if if screen method is long/short or hedged. Else, get error.\r\n",
        "                   }\r\n",
        "                         ]\r\n",
        "                     },\r\n",
        "            'startDt': \"2020-01-01\",\r\n",
        "            # Optional parameters\r\n",
        "            'endDt': \"2020-03-01\",\r\n",
        "            'pitMethod': 'Prelim',          #Prelim or Complet\r\n",
        "            'precision': 2,                 #2,3,4\r\n",
        "            'transPrice': 3,                #1 - Next Open, 4 - Next Close, 3 - Next Average of Hi and Low\r\n",
        "            'maxPosPct': 0,\r\n",
        "            'slippage': 0.25,\r\n",
        "            'longWeight': 100,\r\n",
        "            'shortWeight': 100,\r\n",
        "            'frequency': \"Every 4 Weeks\",   #Every Week or Every 4 Weeks\r\n",
        "            'holdingPeriod': 182            #Holding period (days). From 1 to 730.\r\n",
        "        }\r\n",
        "        ))\r\n",
        "except p123api.ClientException as e:\r\n",
        "    print(e)"
      ],
      "execution_count": null,
      "outputs": []
    }
  ]
}