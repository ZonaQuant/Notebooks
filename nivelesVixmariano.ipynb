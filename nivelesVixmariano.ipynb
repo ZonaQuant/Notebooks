{
  "nbformat": 4,
  "nbformat_minor": 0,
  "metadata": {
    "colab": {
      "name": "Untitled0.ipynb",
      "provenance": [],
      "toc_visible": true,
      "include_colab_link": true
    },
    "kernelspec": {
      "name": "python3",
      "display_name": "Python 3"
    },
    "language_info": {
      "name": "python"
    }
  },
  "cells": [
    {
      "cell_type": "markdown",
      "metadata": {
        "id": "view-in-github",
        "colab_type": "text"
      },
      "source": [
        "<a href=\"https://colab.research.google.com/github/ZonaQuant/Notebooks/blob/main/nivelesVixmariano.ipynb\" target=\"_parent\"><img src=\"https://colab.research.google.com/assets/colab-badge.svg\" alt=\"Open In Colab\"/></a>"
      ]
    },
    {
      "cell_type": "code",
      "execution_count": null,
      "metadata": {
        "id": "GQ18Kd5F3uKe",
        "colab": {
          "base_uri": "https://localhost:8080/",
          "height": 698
        },
        "outputId": "07a67a97-348f-4d59-91b4-eeb6ceffd94d"
      },
      "outputs": [
        {
          "output_type": "stream",
          "name": "stdout",
          "text": [
            "Collecting yfinance\n",
            "  Downloading yfinance-0.1.70-py2.py3-none-any.whl (26 kB)\n",
            "Requirement already satisfied: multitasking>=0.0.7 in /usr/local/lib/python3.7/dist-packages (from yfinance) (0.0.10)\n",
            "Requirement already satisfied: pandas>=0.24.0 in /usr/local/lib/python3.7/dist-packages (from yfinance) (1.3.5)\n",
            "Collecting requests>=2.26\n",
            "  Downloading requests-2.27.1-py2.py3-none-any.whl (63 kB)\n",
            "\u001b[K     |████████████████████████████████| 63 kB 1.6 MB/s \n",
            "\u001b[?25hCollecting lxml>=4.5.1\n",
            "  Downloading lxml-4.8.0-cp37-cp37m-manylinux_2_17_x86_64.manylinux2014_x86_64.manylinux_2_24_x86_64.whl (6.4 MB)\n",
            "\u001b[K     |████████████████████████████████| 6.4 MB 16.2 MB/s \n",
            "\u001b[?25hRequirement already satisfied: numpy>=1.15 in /usr/local/lib/python3.7/dist-packages (from yfinance) (1.21.5)\n",
            "Requirement already satisfied: pytz>=2017.3 in /usr/local/lib/python3.7/dist-packages (from pandas>=0.24.0->yfinance) (2018.9)\n",
            "Requirement already satisfied: python-dateutil>=2.7.3 in /usr/local/lib/python3.7/dist-packages (from pandas>=0.24.0->yfinance) (2.8.2)\n",
            "Requirement already satisfied: six>=1.5 in /usr/local/lib/python3.7/dist-packages (from python-dateutil>=2.7.3->pandas>=0.24.0->yfinance) (1.15.0)\n",
            "Requirement already satisfied: idna<4,>=2.5 in /usr/local/lib/python3.7/dist-packages (from requests>=2.26->yfinance) (2.10)\n",
            "Requirement already satisfied: charset-normalizer~=2.0.0 in /usr/local/lib/python3.7/dist-packages (from requests>=2.26->yfinance) (2.0.12)\n",
            "Requirement already satisfied: urllib3<1.27,>=1.21.1 in /usr/local/lib/python3.7/dist-packages (from requests>=2.26->yfinance) (1.24.3)\n",
            "Requirement already satisfied: certifi>=2017.4.17 in /usr/local/lib/python3.7/dist-packages (from requests>=2.26->yfinance) (2021.10.8)\n",
            "Installing collected packages: requests, lxml, yfinance\n",
            "  Attempting uninstall: requests\n",
            "    Found existing installation: requests 2.23.0\n",
            "    Uninstalling requests-2.23.0:\n",
            "      Successfully uninstalled requests-2.23.0\n",
            "  Attempting uninstall: lxml\n",
            "    Found existing installation: lxml 4.2.6\n",
            "    Uninstalling lxml-4.2.6:\n",
            "      Successfully uninstalled lxml-4.2.6\n",
            "\u001b[31mERROR: pip's dependency resolver does not currently take into account all the packages that are installed. This behaviour is the source of the following dependency conflicts.\n",
            "google-colab 1.0.0 requires requests~=2.23.0, but you have requests 2.27.1 which is incompatible.\n",
            "datascience 0.10.6 requires folium==0.2.1, but you have folium 0.8.3 which is incompatible.\u001b[0m\n",
            "Successfully installed lxml-4.8.0 requests-2.27.1 yfinance-0.1.70\n"
          ]
        },
        {
          "output_type": "display_data",
          "data": {
            "application/vnd.colab-display-data+json": {
              "pip_warning": {
                "packages": [
                  "requests"
                ]
              }
            }
          },
          "metadata": {}
        }
      ],
      "source": [
        "!pip install yfinance"
      ]
    },
    {
      "cell_type": "code",
      "execution_count": null,
      "metadata": {
        "colab": {
          "base_uri": "https://localhost:8080/"
        },
        "id": "lEMkbRzGQYgl",
        "outputId": "e6f5a748-ff7f-4cef-8e43-1184b93249e6"
      },
      "outputs": [
        {
          "output_type": "stream",
          "name": "stdout",
          "text": [
            "[*********************100%***********************]  2 of 2 completed\n"
          ]
        }
      ],
      "source": [
        "import pandas as pd\n",
        "\n",
        "import yfinance\n",
        "import datetime\n",
        "\n",
        "start = datetime.datetime(1993, 1, 1)\n",
        "end = datetime.datetime(2022, 3, 28)\n",
        "buckets = 10\n",
        "\n",
        "data = yfinance.download(['^VIX', 'SPY'],start=start, end=end,)\n",
        "\n",
        "data = data['Close']\n",
        "data['SPY_return'] = (data['SPY'] / data['SPY'].shift(1)) -1\n",
        "data.dropna(inplace = True)\n",
        "\n",
        "data['vix_deciles'] = pd.qcut(data['^VIX'], q = buckets, precision=2)\n",
        "data['vix_bins'] = pd.cut(data['^VIX'], bins = buckets)\n",
        "data['spy_bins'] = pd.cut(data['SPY_return'], bins = buckets)"
      ]
    },
    {
      "cell_type": "code",
      "source": [
        "print(\"VIX/SPY retornos diarios desde \" + data.index[0].strftime('%d/%m/%Y') + \" al \"  + end.strftime('%d/%m/%Y'))\n",
        "print(data['^VIX'].describe())"
      ],
      "metadata": {
        "colab": {
          "base_uri": "https://localhost:8080/"
        },
        "id": "IrKDgRcfQ0Db",
        "outputId": "590a27bb-9155-48dd-cac8-96dcba9c9417"
      },
      "execution_count": null,
      "outputs": [
        {
          "output_type": "stream",
          "name": "stdout",
          "text": [
            "VIX/SPY retornos diarios desde 05/01/2010 al 28/03/2022\n",
            "count    3078.000000\n",
            "mean       18.273415\n",
            "std         7.256988\n",
            "min         9.140000\n",
            "25%        13.450000\n",
            "50%        16.389999\n",
            "75%        20.905000\n",
            "max        82.690002\n",
            "Name: ^VIX, dtype: float64\n"
          ]
        }
      ]
    },
    {
      "cell_type": "code",
      "source": [
        "print(\"\\nPor cuantiles\")\n",
        "vix_by_spy_returns = data.groupby(by=['vix_deciles'])['SPY_return']\n",
        "print(vix_by_spy_returns.describe(percentiles=[0.1, 0.2,0.8, 0.9]))"
      ],
      "metadata": {
        "colab": {
          "base_uri": "https://localhost:8080/"
        },
        "id": "IIalaSNQVrck",
        "outputId": "1d0eccc7-ba59-43e9-c315-bb7efd5a2d39"
      },
      "execution_count": null,
      "outputs": [
        {
          "output_type": "stream",
          "name": "stdout",
          "text": [
            "\n",
            "Por cuantiles\n",
            "                count      mean       std       min       10%       20%       50%       80%       90%       max\n",
            "vix_deciles                                                                                                    \n",
            "(9.13, 12.01]   308.0  0.001526  0.003597 -0.008789 -0.002700 -0.001159  0.001180  0.004604  0.006495  0.011578\n",
            "(12.01, 12.95]  308.0  0.002137  0.004278 -0.012840 -0.002906 -0.001317  0.002106  0.005369  0.007925  0.013998\n",
            "(12.95, 13.97]  311.0  0.001004  0.005288 -0.013305 -0.005294 -0.002991  0.000490  0.005519  0.008091  0.017073\n",
            "(13.97, 15.24]  305.0  0.001599  0.006682 -0.014064 -0.006649 -0.003641  0.000636  0.007116  0.010912  0.025630\n",
            "(15.24, 16.39]  309.0  0.000980  0.006687 -0.021006 -0.007044 -0.004157  0.000842  0.006467  0.009324  0.021409\n",
            "(16.39, 17.76]  307.0  0.001413  0.008422 -0.023935 -0.009174 -0.004923  0.000798  0.007890  0.013040  0.024927\n",
            "(17.76, 19.5]   306.0  0.000232  0.008755 -0.022664 -0.011071 -0.006711  0.000162  0.008135  0.012267  0.023025\n",
            "(19.5, 22.27]   310.0 -0.000518  0.010444 -0.032402 -0.014484 -0.008656 -0.000306  0.008300  0.012104  0.033496\n",
            "(22.27, 27.09]  306.0 -0.000929  0.012737 -0.035909 -0.017810 -0.011472 -0.000342  0.010026  0.014838  0.034835\n",
            "(27.09, 82.69]  308.0 -0.002358  0.024073 -0.109424 -0.029465 -0.019561 -0.002700  0.015038  0.023287  0.090603\n"
          ]
        }
      ]
    },
    {
      "cell_type": "code",
      "source": [
        "print(\"\\nPor intervalos iguales del VIX\")\n",
        "vix_by_spy_returns = data.groupby(by=['vix_bins'])['SPY_return']\n",
        "print(vix_by_spy_returns.describe(percentiles=[0.2,0.8]))"
      ],
      "metadata": {
        "colab": {
          "base_uri": "https://localhost:8080/"
        },
        "id": "BOu6O37BVz6w",
        "outputId": "ab960b38-0669-4664-cf87-c9ecbd0c945a"
      },
      "execution_count": null,
      "outputs": [
        {
          "output_type": "stream",
          "name": "stdout",
          "text": [
            "\n",
            "Por intervalos iguales del VIX\n",
            "                  count      mean       std       min       20%       50%       80%       max\n",
            "vix_bins                                                                                     \n",
            "(9.066, 16.495]  1572.0  0.001485  0.005516 -0.021006 -0.002508  0.001148  0.005785  0.025630\n",
            "(16.495, 23.85]  1016.0  0.000095  0.009578 -0.032402 -0.007388  0.000219  0.008094  0.033496\n",
            "(23.85, 31.205]   312.0 -0.000076  0.014736 -0.035909 -0.012658 -0.000781  0.012826  0.050525\n",
            "(31.205, 38.56]   121.0 -0.002569  0.019591 -0.046842 -0.019444 -0.004154  0.014085  0.046499\n",
            "(38.56, 45.915]    35.0 -0.009131  0.028274 -0.057649 -0.033429 -0.015244  0.014723  0.067166\n",
            "(45.915, 53.27]     5.0 -0.000748  0.043756 -0.065123 -0.024588  0.001019  0.028809  0.051745\n",
            "(53.27, 60.625]     6.0 -0.011465  0.060492 -0.078094 -0.048748 -0.029955  0.032476  0.085486\n",
            "(60.625, 67.98]     6.0  0.009987  0.055055 -0.048688 -0.029786 -0.005299  0.058390  0.090603\n",
            "(67.98, 75.335]     1.0  0.002125       NaN  0.002125  0.002125  0.002125  0.002125  0.002125\n",
            "(75.335, 82.69]     4.0 -0.050435  0.074008 -0.109424 -0.101176 -0.073155 -0.008783  0.053992\n"
          ]
        }
      ]
    },
    {
      "cell_type": "code",
      "source": [
        "print(\"\\nPor retornos diarios del SPY\")\n",
        "spy_returns_by_vix = data.groupby(by=['spy_bins'])['^VIX']\n",
        "print(spy_returns_by_vix.describe(percentiles=[0.9]))"
      ],
      "metadata": {
        "colab": {
          "base_uri": "https://localhost:8080/"
        },
        "id": "ebLEZqReV1-Z",
        "outputId": "03029cc9-a96a-4e74-bd8e-00d9406c257c"
      },
      "execution_count": null,
      "outputs": [
        {
          "output_type": "stream",
          "name": "stdout",
          "text": [
            "\n",
            "Por retornos diarios del SPY\n",
            "                      count       mean        std        min        50%        90%        max\n",
            "spy_bins                                                                                     \n",
            "(-0.11, -0.0894]        2.0  79.080002   5.105312  75.470001  79.080002  81.968002  82.690002\n",
            "(-0.0894, -0.0694]      1.0  54.459999        NaN  54.459999  54.459999  54.459999  54.459999\n",
            "(-0.0694, -0.0494]      3.0  55.079999  18.854804  40.790001  48.000000  70.759998  76.449997\n",
            "(-0.0494, -0.0294]     34.0  36.726471  11.357842  20.740000  35.820000  51.467001  66.040001\n",
            "(-0.0294, -0.00941]   309.0  23.707184   7.418031  12.470000  21.879999  33.931998  61.590000\n",
            "(-0.00941, 0.0106]   2380.0  16.536071   5.192515   9.140000  15.430000  23.145000  72.000000\n",
            "(0.0106, 0.0306]      327.0  21.586453   7.218920  10.730000  19.540001  31.488000  63.950001\n",
            "(0.0306, 0.0506]       16.0  33.120000   8.318462  21.379999  31.200000  41.174999  57.080002\n",
            "(0.0506, 0.0706]        4.0  57.362501  14.206221  45.240002  54.150000  71.437003  75.910004\n",
            "(0.0706, 0.0906]        2.0  59.750000   2.715287  57.830002  59.750000  61.285999  61.669998\n"
          ]
        }
      ]
    }
  ]
}