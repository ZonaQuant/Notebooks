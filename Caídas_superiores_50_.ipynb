{
  "nbformat": 4,
  "nbformat_minor": 0,
  "metadata": {
    "colab": {
      "name": "Caídas superiores 50%.ipynb",
      "provenance": [],
      "collapsed_sections": [],
      "include_colab_link": true
    },
    "kernelspec": {
      "name": "python3",
      "display_name": "Python 3"
    },
    "language_info": {
      "name": "python"
    }
  },
  "cells": [
    {
      "cell_type": "markdown",
      "metadata": {
        "id": "view-in-github",
        "colab_type": "text"
      },
      "source": [
        "<a href=\"https://colab.research.google.com/github/ZonaQuant/Notebooks/blob/main/Ca%C3%ADdas_superiores_50_.ipynb\" target=\"_parent\"><img src=\"https://colab.research.google.com/assets/colab-badge.svg\" alt=\"Open In Colab\"/></a>"
      ]
    },
    {
      "cell_type": "code",
      "source": [
        "pip install yfinance pandas yahoo_fin numpy"
      ],
      "metadata": {
        "colab": {
          "base_uri": "https://localhost:8080/"
        },
        "id": "2M54rIhSjHmV",
        "outputId": "515c6c28-4366-478e-8d80-089cef961504"
      },
      "execution_count": null,
      "outputs": [
        {
          "output_type": "stream",
          "name": "stdout",
          "text": [
            "Requirement already satisfied: yfinance in /usr/local/lib/python3.7/dist-packages (0.1.70)\n",
            "Requirement already satisfied: pandas in /usr/local/lib/python3.7/dist-packages (1.3.5)\n",
            "Requirement already satisfied: yahoo_fin in /usr/local/lib/python3.7/dist-packages (0.8.9.1)\n",
            "Requirement already satisfied: matplotlib in /usr/local/lib/python3.7/dist-packages (3.2.2)\n",
            "Requirement already satisfied: numpy in /usr/local/lib/python3.7/dist-packages (1.21.5)\n",
            "Requirement already satisfied: requests>=2.26 in /usr/local/lib/python3.7/dist-packages (from yfinance) (2.27.1)\n",
            "Requirement already satisfied: multitasking>=0.0.7 in /usr/local/lib/python3.7/dist-packages (from yfinance) (0.0.10)\n",
            "Requirement already satisfied: lxml>=4.5.1 in /usr/local/lib/python3.7/dist-packages (from yfinance) (4.8.0)\n",
            "Requirement already satisfied: pytz>=2017.3 in /usr/local/lib/python3.7/dist-packages (from pandas) (2018.9)\n",
            "Requirement already satisfied: python-dateutil>=2.7.3 in /usr/local/lib/python3.7/dist-packages (from pandas) (2.8.2)\n",
            "Requirement already satisfied: six>=1.5 in /usr/local/lib/python3.7/dist-packages (from python-dateutil>=2.7.3->pandas) (1.15.0)\n",
            "Requirement already satisfied: idna<4,>=2.5 in /usr/local/lib/python3.7/dist-packages (from requests>=2.26->yfinance) (2.10)\n",
            "Requirement already satisfied: urllib3<1.27,>=1.21.1 in /usr/local/lib/python3.7/dist-packages (from requests>=2.26->yfinance) (1.26.8)\n",
            "Requirement already satisfied: certifi>=2017.4.17 in /usr/local/lib/python3.7/dist-packages (from requests>=2.26->yfinance) (2021.10.8)\n",
            "Requirement already satisfied: charset-normalizer~=2.0.0 in /usr/local/lib/python3.7/dist-packages (from requests>=2.26->yfinance) (2.0.12)\n",
            "Requirement already satisfied: requests-html in /usr/local/lib/python3.7/dist-packages (from yahoo_fin) (0.10.0)\n",
            "Requirement already satisfied: feedparser in /usr/local/lib/python3.7/dist-packages (from yahoo_fin) (6.0.8)\n",
            "Requirement already satisfied: pyparsing!=2.0.4,!=2.1.2,!=2.1.6,>=2.0.1 in /usr/local/lib/python3.7/dist-packages (from matplotlib) (3.0.7)\n",
            "Requirement already satisfied: cycler>=0.10 in /usr/local/lib/python3.7/dist-packages (from matplotlib) (0.11.0)\n",
            "Requirement already satisfied: kiwisolver>=1.0.1 in /usr/local/lib/python3.7/dist-packages (from matplotlib) (1.3.2)\n",
            "Requirement already satisfied: sgmllib3k in /usr/local/lib/python3.7/dist-packages (from feedparser->yahoo_fin) (1.0.0)\n",
            "Requirement already satisfied: pyquery in /usr/local/lib/python3.7/dist-packages (from requests-html->yahoo_fin) (1.4.3)\n",
            "Requirement already satisfied: bs4 in /usr/local/lib/python3.7/dist-packages (from requests-html->yahoo_fin) (0.0.1)\n",
            "Requirement already satisfied: parse in /usr/local/lib/python3.7/dist-packages (from requests-html->yahoo_fin) (1.19.0)\n",
            "Requirement already satisfied: pyppeteer>=0.0.14 in /usr/local/lib/python3.7/dist-packages (from requests-html->yahoo_fin) (1.0.2)\n",
            "Requirement already satisfied: w3lib in /usr/local/lib/python3.7/dist-packages (from requests-html->yahoo_fin) (1.22.0)\n",
            "Requirement already satisfied: fake-useragent in /usr/local/lib/python3.7/dist-packages (from requests-html->yahoo_fin) (0.1.11)\n",
            "Requirement already satisfied: appdirs<2.0.0,>=1.4.3 in /usr/local/lib/python3.7/dist-packages (from pyppeteer>=0.0.14->requests-html->yahoo_fin) (1.4.4)\n",
            "Requirement already satisfied: websockets<11.0,>=10.0 in /usr/local/lib/python3.7/dist-packages (from pyppeteer>=0.0.14->requests-html->yahoo_fin) (10.2)\n",
            "Requirement already satisfied: pyee<9.0.0,>=8.1.0 in /usr/local/lib/python3.7/dist-packages (from pyppeteer>=0.0.14->requests-html->yahoo_fin) (8.2.2)\n",
            "Requirement already satisfied: importlib-metadata>=1.4 in /usr/local/lib/python3.7/dist-packages (from pyppeteer>=0.0.14->requests-html->yahoo_fin) (4.11.1)\n",
            "Requirement already satisfied: tqdm<5.0.0,>=4.42.1 in /usr/local/lib/python3.7/dist-packages (from pyppeteer>=0.0.14->requests-html->yahoo_fin) (4.62.3)\n",
            "Requirement already satisfied: zipp>=0.5 in /usr/local/lib/python3.7/dist-packages (from importlib-metadata>=1.4->pyppeteer>=0.0.14->requests-html->yahoo_fin) (3.7.0)\n",
            "Requirement already satisfied: typing-extensions>=3.6.4 in /usr/local/lib/python3.7/dist-packages (from importlib-metadata>=1.4->pyppeteer>=0.0.14->requests-html->yahoo_fin) (3.10.0.2)\n",
            "Requirement already satisfied: beautifulsoup4 in /usr/local/lib/python3.7/dist-packages (from bs4->requests-html->yahoo_fin) (4.6.3)\n",
            "Requirement already satisfied: cssselect>0.7.9 in /usr/local/lib/python3.7/dist-packages (from pyquery->requests-html->yahoo_fin) (1.1.0)\n"
          ]
        }
      ]
    },
    {
      "cell_type": "code",
      "execution_count": null,
      "metadata": {
        "colab": {
          "base_uri": "https://localhost:8080/"
        },
        "id": "5glTV7gnjGnR",
        "outputId": "3ea19eb4-8543-45d0-a030-6dbaa35e990b"
      },
      "outputs": [
        {
          "output_type": "stream",
          "name": "stdout",
          "text": [
            "\n",
            "1 Failed download:\n",
            "- ARIZR: No data found for this date range, symbol may be delisted\n",
            "\n",
            "1 Failed download:\n",
            "- BLEUR: No data found for this date range, symbol may be delisted\n",
            "\n",
            "1 Failed download:\n",
            "- BMAQR: No data found for this date range, symbol may be delisted\n",
            "\n",
            "1 Failed download:\n",
            "- BNIXR: No data found for this date range, symbol may be delisted\n",
            "\n",
            "1 Failed download:\n",
            "- BRAC: No data found for this date range, symbol may be delisted\n",
            "\n",
            "1 Failed download:\n",
            "- BRACR: No data found for this date range, symbol may be delisted\n",
            "\n",
            "1 Failed download:\n",
            "- BREZR: No data found for this date range, symbol may be delisted\n",
            "\n",
            "1 Failed download:\n",
            "- BRLIR: No data found for this date range, symbol may be delisted\n",
            "\n",
            "1 Failed download:\n",
            "- BSGAR: No data found for this date range, symbol may be delisted\n",
            "\n",
            "1 Failed download:\n",
            "- CLAQR: No data found for this date range, symbol may be delisted\n",
            "\n",
            "1 Failed download:\n",
            "- CLOER: No data found for this date range, symbol may be delisted\n",
            "\n",
            "1 Failed download:\n",
            "- DMAQR: No data found for this date range, symbol may be delisted\n",
            "\n",
            "1 Failed download:\n",
            "- ENERR: No data found for this date range, symbol may be delisted\n",
            "\n",
            "1 Failed download:\n",
            "- ESSCR: No data found for this date range, symbol may be delisted\n",
            "\n",
            "1 Failed download:\n",
            "- FEXDR: No data found for this date range, symbol may be delisted\n",
            "\n",
            "1 Failed download:\n",
            "- FXCOR: No data found for this date range, symbol may be delisted\n",
            "\n",
            "1 Failed download:\n",
            "- GBRGR: No data found for this date range, symbol may be delisted\n",
            "\n",
            "1 Failed download:\n",
            "- GECCM: No data found for this date range, symbol may be delisted\n",
            "\n",
            "1 Failed download:\n",
            "- GFGDR: No data found for this date range, symbol may be delisted\n",
            "\n",
            "1 Failed download:\n",
            "- GGGVR: No data found for this date range, symbol may be delisted\n",
            "\n",
            "1 Failed download:\n",
            "- GLLIR: No data found for this date range, symbol may be delisted\n",
            "\n",
            "1 Failed download:\n",
            "- GPCOR: No data found for this date range, symbol may be delisted\n",
            "\n",
            "1 Failed download:\n",
            "- HHGCR: No data found for this date range, symbol may be delisted\n",
            "\n",
            "1 Failed download:\n",
            "- LAXXR: No data found for this date range, symbol may be delisted\n",
            "\n",
            "1 Failed download:\n",
            "- MAAQR: No data found for this date range, symbol may be delisted\n",
            "\n",
            "1 Failed download:\n",
            "- MBTCR: No data found for this date range, symbol may be delisted\n",
            "\n",
            "1 Failed download:\n",
            "- MCAER: No data found for this date range, symbol may be delisted\n",
            "\n",
            "1 Failed download:\n",
            "- MCAFR: No data found for this date range, symbol may be delisted\n",
            "\n",
            "1 Failed download:\n",
            "- MCAGR: No data found for this date range, symbol may be delisted\n",
            "\n",
            "1 Failed download:\n",
            "- MPACR: No data found for this date range, symbol may be delisted\n",
            "\n",
            "1 Failed download:\n",
            "- NOVVR: No data found for this date range, symbol may be delisted\n",
            "\n",
            "1 Failed download:\n",
            "- NVACR: No data found for this date range, symbol may be delisted\n",
            "\n",
            "1 Failed download:\n",
            "- PAFOR: No data found for this date range, symbol may be delisted\n",
            "\n",
            "1 Failed download:\n",
            "- PEARW: No data found for this date range, symbol may be delisted\n",
            "\n",
            "1 Failed download:\n",
            "- PPHPR: No data found for this date range, symbol may be delisted\n",
            "\n",
            "1 Failed download:\n",
            "- SAGAR: No data found for this date range, symbol may be delisted\n",
            "\n",
            "1 Failed download:\n",
            "- STRCW: No data found for this date range, symbol may be delisted\n",
            "\n",
            "1 Failed download:\n",
            "- THACW: No data found for this date range, symbol may be delisted\n",
            "\n",
            "1 Failed download:\n",
            "- VTAQR: No data found for this date range, symbol may be delisted\n",
            "\n",
            "1 Failed download:\n",
            "- WHLRL: No data found for this date range, symbol may be delisted\n",
            "\n",
            "1 Failed download:\n",
            "- WINVR: No data found for this date range, symbol may be delisted\n",
            "\n",
            "1 Failed download:\n",
            "- WTMAR: No data found for this date range, symbol may be delisted\n",
            "\n",
            "1 Failed download:\n",
            "- ZAZZT: No data found for this date range, symbol may be delisted\n",
            "\n",
            "1 Failed download:\n",
            "- ZBZZT: No data found for this date range, symbol may be delisted\n",
            "\n",
            "1 Failed download:\n",
            "- ZCZZT: No data found for this date range, symbol may be delisted\n",
            "\n",
            "1 Failed download:\n",
            "- ZJZZT: No data found for this date range, symbol may be delisted\n",
            "\n",
            "1 Failed download:\n",
            "- ZVZZC: No data found for this date range, symbol may be delisted\n",
            "\n",
            "1 Failed download:\n",
            "- ZVZZT: No data found for this date range, symbol may be delisted\n",
            "\n",
            "1 Failed download:\n",
            "- ZWZZT: No data found for this date range, symbol may be delisted\n",
            "\n",
            "1 Failed download:\n",
            "- ZXYZ.A: No data found, symbol may be delisted\n",
            "\n",
            "1 Failed download:\n",
            "- ZXZZT: No data found for this date range, symbol may be delisted\n",
            "['AACG', 'AADI', 'AAL', 'AAME', 'AAOI', 'AATC', 'AAWW', 'ABCB', 'ABCL', 'ABEO', 'ABIO', 'ABOS', 'ABSI', 'ABST', 'ABUS', 'ABVC', 'ACAD', 'ACB', 'ACBI', 'ACCD', 'ACER', 'ACET', 'ACGL', 'ACHC', 'ACHL', 'ACHV', 'ACIU', 'ACLS', 'ACMR', 'ACOR', 'ACRS', 'ACRX', 'ACST', 'ACTG', 'ACVA', 'ACXP', 'ADAG', 'ADAP', 'ADES', 'ADGI', 'ADIL', 'ADMA', 'ADMP', 'ADN', 'ADPT', 'ADTH', 'ADTN', 'ADTX', 'ADUS', 'ADV', 'ADVM', 'ADXN', 'AEHL', 'AEHR', 'AEI', 'AEIS', 'AEMD', 'AERC', 'AERI', 'AESE', 'AEY', 'AEYE', 'AEZS', 'AFIB', 'AFMD', 'AFRM', 'AFYA', 'AGEN', 'AGFS', 'AGFY', 'AGIL', 'AGIO', 'AGLE', 'AGMH', 'AGNC', 'AGNCM', 'AGNCN', 'AGNCO', 'AGNCP', 'AGRI', 'AGRX', 'AGTC', 'AGYS', 'AHCO', 'AHG', 'AHI', 'AHPI', 'AIH', 'AIHS', 'AIKI', 'AIMC', 'AINV', 'AIP', 'AIRG', 'AIRT', 'AKBA', 'AKRO', 'AKTS', 'AKTX', 'AKU', 'AKUS', 'AKYA', 'ALBO', 'ALDX', 'ALEC', 'ALF', 'ALGN', 'ALGS', 'ALGT', 'ALHC', 'ALIM', 'ALJJ', 'ALKT', 'ALLK', 'ALLO', 'ALLR', 'ALLT', 'ALNA', 'ALOT', 'ALPN', 'ALPP', 'ALR', 'ALRN', 'ALT', 'ALTO', 'ALTUW', 'ALTY', 'ALVR', 'ALXO', 'ALYA', 'ALZN', 'AMAL', 'AMCX', 'AMED', 'AMEH', 'AMKR', 'AMNB', 'AMOT', 'AMPG', 'AMPGW', 'AMPL', 'AMRN', 'AMRS', 'AMSC', 'AMST', 'AMSWA', 'AMTB', 'AMTI', 'AMTX', 'AMWD', 'ANDE', 'ANGH', 'ANGI', 'ANGN', 'ANGO', 'ANIK', 'ANIP', 'ANIX', 'ANNX', 'ANPC', 'ANTE', 'ANY', 'AOSL', 'AOUT', 'APA', 'APCX', 'APDN', 'APEI', 'APEN', 'API', 'APLS', 'APLT', 'APM', 'APOG', 'APP', 'APPH', 'APPN', 'APPS', 'APRE', 'APTO', 'APTX', 'APVO', 'APWC', 'APYX', 'AQB', 'AQMS', 'AQST', 'ARAV', 'ARAY', 'ARBE', 'ARBK', 'ARCC', 'ARCE', 'ARCT', 'ARDS', 'ARDX', 'AREB', 'AREC', 'ARHS', 'ARKR', 'ARLP', 'ARQQ', 'ARQT', 'ARRY', 'ARTL', 'ARVL', 'ARVN', 'ARWR', 'ASLN', 'ASMB', 'ASPS', 'ASPU', 'ASRT', 'ASTC', 'ASTR', 'ASTS', 'ASYS', 'ATAI', 'ATAX', 'ATCX', 'ATEC', 'ATER', 'ATEX', 'ATHA', 'ATHE', 'ATHX', 'ATIF', 'ATLC', 'ATNF', 'ATNI', 'ATNX', 'ATOM', 'ATOS', 'ATRA', 'ATRO', 'ATRS', 'ATXI', 'ATXS', 'ATY', 'AUBN', 'AUID', 'AUPH', 'AUR', 'AUTL', 'AUTO', 'AUUD', 'AUVI', 'AVAH', 'AVAV', 'AVCO', 'AVCT', 'AVDL', 'AVDX', 'AVEO', 'AVGR', 'AVIR', 'AVPT', 'AVRO', 'AVT', 'AVTE', 'AVTX', 'AVXL', 'AWH', 'AWRE', 'AXDX', 'AXGN', 'AXLA', 'AXNX', 'AXSM', 'AXTI', 'AYLA', 'AYRO', 'AYTU', 'AZ', 'AZYO', 'BAND', 'BANF', 'BANR', 'BANX', 'BAOS', 'BASE', 'BATRA', 'BATRK', 'BBBY', 'BBCP', 'BBGI', 'BBI', 'BBIG', 'BBIO', 'BBLG', 'BBLGW', 'BBQ', 'BBSI', 'BCAB', 'BCACW', 'BCDA', 'BCEL', 'BCLI', 'BCML', 'BCOR', 'BCOV', 'BCRX', 'BCTX', 'BDSI', 'BDSX', 'BDTX', 'BEAM', 'BEAT', 'BECN', 'BEEM', 'BELFA', 'BELFB', 'BENER', 'BENEW', 'BFI', 'BFRA', 'BFRI', 'BFST', 'BGCP', 'BGFV', 'BGRY', 'BGRYW', 'BHAT', 'BHF', 'BIB', 'BIDU', 'BIGC', 'BILI', 'BIMI', 'BIOC', 'BIOL', 'BIRD', 'BIS', 'BITF', 'BIVI', 'BJDX', 'BJK', 'BJRI', 'BKCC', 'BKCH', 'BKEP', 'BKR', 'BKYI', 'BL', 'BLBD', 'BLBX', 'BLCM', 'BLCT', 'BLDE', 'BLDP', 'BLFS', 'BLI', 'BLIN', 'BLKB', 'BLMN', 'BLNK', 'BLPH', 'BLRX', 'BLU', 'BLUE', 'BLZE', 'BMBL', 'BMEA', 'BMRA', 'BNFT', 'BNGO', 'BNR', 'BNSO', 'BNTC', 'BNTX', 'BOKF', 'BOLT', 'BON', 'BOOM', 'BOSC', 'BOXL', 'BPOP', 'BPTH', 'BPTS', 'BPYPN', 'BPYPO', 'BPYPP', 'BRAG', 'BRCN', 'BRFH', 'BRID', 'BRLT', 'BRQS', 'BRTX', 'BRY', 'BRZE', 'BSET', 'BSFC', 'BSGM', 'BSQR', 'BSRR', 'BSVN', 'BTAI', 'BTB', 'BTBD', 'BTBT', 'BTCS', 'BTCY', 'BTOG', 'BTRS', 'BTTX', 'BTWNW', 'BTX', 'BVXV', 'BWAY', 'BWEN', 'BWFG', 'BWMX', 'BXRX', 'BYFC', 'BYND', 'BYRN', 'BYSI', 'BZFD', 'BZUN', 'CAAS', 'CABA', 'CACC', 'CADL', 'CAKE', 'CALA', 'CALB', 'CALT', 'CAMP', 'CAMT', 'CAN', 'CAPR', 'CAR', 'CARA', 'CARE', 'CARG', 'CARV', 'CASA', 'CASH', 'CASI', 'CATY', 'CBAT', 'CBAY', 'CBIO', 'CBNK', 'CBRL', 'CBTX', 'CCAP', 'CCB', 'CCCC', 'CCD', 'CCLP', 'CCNC', 'CCNE', 'CCRN', 'CCXI', 'CD', 'CDAK', 'CDEV', 'CDLX', 'CDMO', 'CDNA', 'CDRO', 'CDTX', 'CDXC', 'CDXS', 'CDZI', 'CEAD', 'CECE', 'CELC', 'CELH', 'CELU', 'CELZ', 'CEMI', 'CENN', 'CENX', 'CERT', 'CETX', 'CETXP', 'CEVA', 'CFB', 'CFIVW', 'CFLT', 'CFMS', 'CFRX', 'CG', 'CGBD', 'CGC', 'CGEM', 'CGEN', 'CGNT', 'CGO', 'CGRN', 'CGTX', 'CHCI', 'CHDN', 'CHEF', 'CHEK', 'CHI', 'CHNA', 'CHNG', 'CHNR', 'CHRS', 'CHUY', 'CHW', 'CHX', 'CHY', 'CIDM', 'CIFR', 'CIGI', 'CIH', 'CINF', 'CING', 'CIVB', 'CJJD', 'CKPT', 'CLBS', 'CLBT', 'CLDX', 'CLEU', 'CLGN', 'CLIR', 'CLLS', 'CLMT', 'CLNE', 'CLNN', 'CLOV', 'CLPS', 'CLPT', 'CLRB', 'CLRO', 'CLSD', 'CLSK', 'CLSN', 'CLST', 'CLVR', 'CLVRW', 'CLVS', 'CLWT', 'CLXT', 'CMAX', 'CMBM', 'CMCT', 'CMLS', 'CMMB', 'CMPI', 'CMPR', 'CMPS', 'CMPX', 'CMRX', 'CMTL', 'CNCE', 'CNCR', 'CNDT', 'CNET', 'CNEY', 'CNFRL', 'CNOB', 'CNSP', 'CNTA', 'CNTB', 'CNTG', 'CNTX', 'CNTY', 'COCP', 'CODX', 'COGT', 'COHR', 'COHU', 'COIN', 'COMM', 'COMS', 'CONN', 'COOLW', 'COOP', 'CORZ', 'COUP', 'COWN', 'COWNL', 'CPARW', 'CPIX', 'CPLP', 'CPOP', 'CPSH', 'CPSS', 'CPTAG', 'CPTAL', 'CPTN', 'CPZ', 'CRAI', 'CRBP', 'CRBU', 'CRCT', 'CRDF', 'CRDL', 'CREG', 'CRESY', 'CREX', 'CRIS', 'CRKN', 'CRMD', 'CRMT', 'CRNC', 'CRNT', 'CRNX', 'CRON', 'CROX', 'CRSP', 'CRSR', 'CRTD', 'CRTO', 'CRTX', 'CRVL', 'CRVS', 'CRWD', 'CRXT', 'CSBR', 'CSCW', 'CSII', 'CSIQ', 'CSPI', 'CSSE', 'CSTL', 'CSTR', 'CSWC', 'CTAQW', 'CTEC', 'CTG', 'CTHR', 'CTIB', 'CTIC', 'CTKB', 'CTLP', 'CTMX', 'CTRE', 'CTRM', 'CTRN', 'CTSO', 'CTXR', 'CTXS', 'CUBA', 'CUE', 'CUEN', 'CULL', 'CURI', 'CUTR', 'CVAC', 'CVCO', 'CVCY', 'CVET', 'CVGI', 'CVGW', 'CVLG', 'CVLY', 'CVRX', 'CVT', 'CVV', 'CWBC', 'CWBR', 'CWCO', 'CXDO', 'CYAD', 'CYCC', 'CYCN', 'CYN', 'CYRN', 'CYRX', 'CYT', 'CYTH', 'CYTHW', 'CYTO', 'CZR', 'CZWI', 'DADA', 'DAPP', 'DARE', 'DATS', 'DATSW', 'DAVE', 'DAWN', 'DBGI', 'DBTX', 'DBVT', 'DCFC', 'DCGOW', 'DCOM', 'DCPH', 'DCT', 'DCTH', 'DENN', 'DERM', 'DFFN', 'DFH', 'DGHI', 'DGII', 'DGLY', 'DH', 'DHC', 'DHCNI', 'DIBS', 'DICE', 'DISCA', 'DISCB', 'DISCK', 'DISH', 'DKNG', 'DLO', 'DLPN', 'DLTH', 'DMAC', 'DMLP', 'DMRC', 'DMTK', 'DNAY', 'DNLI', 'DOCU', 'DOGZ', 'DOMO', 'DOOO', 'DOYU', 'DPRO', 'DRIO', 'DRMA', 'DRRX', 'DRTT', 'DRUG', 'DSGN', 'DSKE', 'DSP', 'DSPC', 'DTEA', 'DTIL', 'DTSS', 'DTST', 'DUO', 'DUOL', 'DUOT', 'DVAX', 'DVLU', 'DWAC', 'DWACU', 'DWSH', 'DWSN', 'DXLG', 'DXPE', 'DXR', 'DXYN', 'DYAI', 'DYN', 'DYNT', 'DZSI', 'EAR', 'EAST', 'EBET', 'EBIX', 'EBON', 'ECOL', 'ECOR', 'ECPG', 'EDAP', 'EDIT', 'EDRY', 'EDSA', 'EDTK', 'EDTX', 'EDUC', 'EDUT', 'EEFT', 'EEIQ', 'EFOI', 'EFSC', 'EFTR', 'EGAN', 'EGLE', 'EGLX', 'EH', 'EHTH', 'EIGR', 'EJH', 'EKSO', 'ELDN', 'ELEV', 'ELMS', 'ELOX', 'ELSE', 'ELTK', 'ELYM', 'ELYS', 'EM', 'EMBK', 'EMKR', 'ENDP', 'ENG', 'ENJY', 'ENJYW', 'ENLV', 'ENOB', 'ENPH', 'ENSC', 'ENSG', 'ENTX', 'ENVB', 'ENVX', 'EOLS', 'EOSE', 'EOSEW', 'EPIX', 'EPZM', 'EQ', 'EQBK', 'EQOS', 'EQRR', 'EQRX', 'ERAS', 'ERYP', 'ESCA', 'ESEA', 'ESGR', 'ESPR', 'ESQ', 'ESTA', 'ETNB', 'ETON', 'ETSY', 'ETTX', 'EVAX', 'EVBG', 'EVCM', 'EVER', 'EVFM', 'EVGN', 'EVGO', 'EVGOW', 'EVK', 'EVLO', 'EVLV', 'EVOK', 'EVOL', 'EVOP', 'EWBC', 'EWEB', 'EWTX', 'EWZS', 'EXAS', 'EXFY', 'EXPE', 'EXPI', 'EXTR', 'EYE', 'EYEN', 'EYES', 'EYPT', 'EZFL', 'EZGO', 'FAMI', 'FANG', 'FANH', 'FARM', 'FAT', 'FATBB', 'FATE', 'FBIO', 'FBIZ', 'FBMS', 'FBNC', 'FBRX', 'FBZ', 'FCAP', 'FCEL', 'FCRD', 'FCUV', 'FDMT', 'FDUS', 'FEMY', 'FENC', 'FFBC', 'FFHL', 'FFIC', 'FFIE', 'FFWM', 'FGEN', 'FGF', 'FHB', 'FHTX', 'FICV', 'FISI', 'FITB', 'FITBO', 'FIVE', 'FIVN', 'FIXX', 'FIZZ', 'FKU', 'FKWL', 'FLACW', 'FLDM', 'FLEX', 'FLGC', 'FLGT', 'FLL', 'FLMN', 'FLN', 'FLNC', 'FLNT', 'FLUX', 'FLWS', 'FLXS', 'FLYW', 'FMTX', 'FNCH', 'FNGR', 'FNHC', 'FNKO', 'FNWB', 'FOCS', 'FOLD', 'FORA', 'FORD', 'FORR', 'FOSL', 'FOXF', 'FPAY', 'FRBK', 'FREQ', 'FRG', 'FRGI', 'FRLAW', 'FRLN', 'FROG', 'FRPT', 'FRSH', 'FRST', 'FRSX', 'FRTA', 'FSBW', 'FSFG', 'FSRD', 'FSTR', 'FSTX', 'FTCI', 'FTCVW', 'FTEK', 'FTFT', 'FTHM', 'FTRP', 'FTXN', 'FTXO', 'FULC', 'FUNC', 'FUSB', 'FUSN', 'FUTU', 'FUV', 'FWBI', 'FWONA', 'FWONK', 'FWP', 'GAIA', 'GAIN', 'GALT', 'GAME', 'GAN', 'GANX', 'GASS', 'GBIO', 'GBNH', 'GBOX', 'GBS', 'GBT', 'GDEN', 'GDRX', 'GDS', 'GDYN', 'GECC', 'GECCN', 'GEG', 'GENE', 'GEOS', 'GERN', 'GET', 'GEVO', 'GFAI', 'GGAL', 'GH', 'GHSI', 'GIFI', 'GIGE', 'GIGM', 'GIII', 'GILT', 'GLAD', 'GLBE', 'GLBS', 'GLG', 'GLMD', 'GLNG', 'GLPG', 'GLPI', 'GLSI', 'GLTO', 'GLUE', 'GLYC', 'GMBL', 'GMDA', 'GMFI', 'GMTX', 'GMVD', 'GNCA', 'GNFT', 'GNLN', 'GNOG', 'GNPX', 'GNSS', 'GNUS', 'GO', 'GOCO', 'GOEV', 'GOGL', 'GOGO', 'GOOD', 'GOODN', 'GOSS', 'GOVX', 'GP', 'GPP', 'GPRE', 'GPRO', 'GRAB', 'GRABW', 'GRAY', 'GRCL', 'GREE', 'GRFS', 'GRIL', 'GRIN', 'GRNQ', 'GROM', 'GROW', 'GRPH', 'GRPN', 'GRTS', 'GRTX', 'GRUB', 'GRVI', 'GRVY', 'GRWG', 'GSHD', 'GSIT', 'GSKY', 'GSM', 'GSMG', 'GT', 'GTBP', 'GTEC', 'GTH', 'GTHX', 'GTIM', 'GTLB', 'GTX', 'GTYH', 'GVP', 'GWGH', 'HA', 'HAACW', 'HAFC', 'HALL', 'HAPP', 'HARP', 'HAS', 'HAYN', 'HBAN', 'HBCP', 'HBIO', 'HBNC', 'HBP', 'HBT', 'HCAT', 'HCCI', 'HCDI', 'HCICW', 'HCSG', 'HCTI', 'HCWB', 'HEAR', 'HEES', 'HEPA', 'HEPS', 'HEXO', 'HFFG', 'HGBL', 'HGEN', 'HGSH', 'HHS', 'HIBB', 'HIHO', 'HILS', 'HIMX', 'HITI', 'HIVE', 'HLBZ', 'HLG', 'HLTH', 'HMCOW', 'HMHC', 'HMPT', 'HMTV', 'HNRG', 'HNST', 'HOFT', 'HOFV', 'HOOD', 'HOOK', 'HOPE', 'HOTH', 'HOUR', 'HOVNP', 'HOWL', 'HPK', 'HPKEW', 'HQY', 'HROW', 'HRTX', 'HRZN', 'HSDT', 'HSKA', 'HST', 'HSTO', 'HTBI', 'HTBK', 'HTGM', 'HTIA', 'HTOO', 'HTOOW', 'HTZ', 'HUDI', 'HUGE', 'HUIZ', 'HUMA', 'HUSN', 'HUT', 'HWC', 'HYDR', 'HYFM', 'HYMC', 'HYMCL', 'HYPR', 'HYRE', 'HYZN', 'IAC', 'IBCP', 'IBEX', 'IBOC', 'IBRX', 'IBTX', 'ICAD', 'ICCM', 'ICHR', 'ICLK', 'ICMB', 'ICPT', 'ICVX', 'IDAI', 'IDEX', 'IDN', 'IDRA', 'IDYA', 'IEA', 'IFBD', 'IFRX', 'IGAP', 'IGIC', 'IGMS', 'IHRT', 'III', 'IIIIW', 'IIIV', 'IINN', 'IINNW', 'IKNA', 'IKT', 'IMAB', 'IMAC', 'IMBI', 'IMCC', 'IMCR', 'IMGN', 'IMMP', 'IMMR', 'IMMX', 'IMNM', 'IMPL', 'IMPP', 'IMRA', 'IMRN', 'IMRX', 'IMTE', 'IMTX', 'IMUX', 'IMV', 'IMVT', 'INAB', 'INBK', 'INBX', 'INCR', 'INDI', 'INDP', 'INFI', 'INFN', 'INGN', 'INKT', 'INM', 'INMB', 'INMD', 'INNV', 'INO', 'INOD', 'INPX', 'INSE', 'INSG', 'INSM', 'INTA', 'INTZ', 'INVE', 'INVO', 'INVZ', 'INZY', 'IOBT', 'IONM', 'IONS', 'IOVA', 'IPA', 'IPAR', 'IPDN', 'IPHA', 'IPSC', 'IPW', 'IPWR', 'IQ', 'IRBT', 'IRCP', 'IREN', 'IRIX', 'IRTC', 'ISEE', 'ISIG', 'ISO', 'ISPC', 'ISPO', 'ISPOW', 'ISSC', 'ISTR', 'ISUN', 'ITCI', 'ITI', 'ITOS', 'ITRI', 'ITRM', 'ITRN', 'IVAC', 'IZEA', 'JACK', 'JAGX', 'JAKK', 'JAN', 'JANX', 'JBLU', 'JCS', 'JFIN', 'JFU', 'JG', 'JNCE', 'JOBS', 'JRVR', 'JSM', 'JSPR', 'JUPW', 'JVA', 'JWEL', 'JYNT', 'JZXN', 'KALA', 'KALU', 'KALV', 'KAVL', 'KBAL', 'KBNT', 'KBWB', 'KBWD', 'KBWY', 'KC', 'KELYA', 'KELYB', 'KERN', 'KINS', 'KIRK', 'KLDO', 'KLTR', 'KLXE', 'KMDA', 'KMPH', 'KNBE', 'KNDI', 'KNSA', 'KNTE', 'KNTK', 'KOD', 'KOPN', 'KOSS', 'KPLT', 'KPRX', 'KPTI', 'KRBP', 'KRKR', 'KRMD', 'KRNT', 'KRON', 'KROS', 'KRUS', 'KRYS', 'KSCP', 'KSPN', 'KTCC', 'KTOS', 'KTRA', 'KTTA', 'KURA', 'KXIN', 'KYMR', 'KZIA', 'KZR', 'LAAAW', 'LABP', 'LAKE', 'LAMR', 'LASR', 'LAUR', 'LAWS', 'LAZR', 'LAZY', 'LBPH', 'LBPS', 'LBTYB', 'LCID', 'LCUT', 'LE', 'LEDS', 'LEE', 'LEXX', 'LFMD', 'LFST', 'LFTRW', 'LFVN', 'LGHL', 'LGIH', 'LGND', 'LGO', 'LGVN', 'LHCG', 'LHDX', 'LI', 'LIAN', 'LIBYW', 'LIDR', 'LIDRW', 'LIFE', 'LILA', 'LILAK', 'LILM', 'LILMW', 'LIND', 'LINK', 'LIQT', 'LITM', 'LIVE', 'LIVN', 'LIXT', 'LIXTW', 'LIZI', 'LJPC', 'LKCO', 'LKQ', 'LLL', 'LLNW', 'LMACW', 'LMB', 'LMFA', 'LMNL', 'LMPX', 'LMST', 'LNSR', 'LNTH', 'LOAN', 'LOB', 'LOCO', 'LOGC', 'LOOP', 'LOTZ', 'LOV', 'LOVE', 'LPCN', 'LPLA', 'LPRO', 'LPSN', 'LPTH', 'LPTX', 'LQDA', 'LRFC', 'LRMR', 'LSXMA', 'LSXMB', 'LSXMK', 'LTBR', 'LTCH', 'LTCHW', 'LTRN', 'LTRPA', 'LTRPB', 'LTRX', 'LTRY', 'LUCD', 'LUMO', 'LUNG', 'LUXAW', 'LVO', 'LVOX', 'LVOXU', 'LVTX', 'LWLG', 'LX', 'LXEH', 'LXRX', 'LYEL', 'LYFT', 'LYL', 'LYLT', 'LYRA', 'LYTS', 'LZ', 'MACK', 'MANH', 'MAPS', 'MAR', 'MARA', 'MARK', 'MARPS', 'MASI', 'MASS', 'MAT', 'MATW', 'MAXN', 'MBCN', 'MBII', 'MBIO', 'MBNKP', 'MBOT', 'MBRX', 'MBUU', 'MBWM', 'MCBS', 'MCFT', 'MCHX', 'MCLD', 'MCRB', 'MCRI', 'MDGL', 'MDGS', 'MDIA', 'MDJH', 'MDNA', 'MDRR', 'MDRRP', 'MDVL', 'MDWD', 'MDWT', 'MDXG', 'ME', 'MEDS', 'MEIP', 'MELI', 'MEOH', 'MERC', 'MESA', 'MESO', 'METX', 'MF', 'MFH', 'MFIN', 'MGI', 'MGNI', 'MGNX', 'MGPI', 'MGTA', 'MGTX', 'MHLD', 'MICT', 'MIDD', 'MIGI', 'MILE', 'MIND', 'MINDP', 'MINM', 'MIRM', 'MIRO', 'MIST', 'MITC', 'MITO', 'MKD', 'MKTW', 'MKTWW', 'MLCO', 'MLKN', 'MLVF', 'MMAT', 'MMLP', 'MMYT', 'MNDT', 'MNDY', 'MNKD', 'MNMD', 'MNOV', 'MNPR', 'MNTK', 'MNTS', 'MNTV', 'MOBQ', 'MODV', 'MOFG', 'MOGO', 'MOHO', 'MOLN', 'MOMO', 'MOR', 'MORF', 'MOTS', 'MOVE', 'MOXC', 'MPAA', 'MQ', 'MRAI', 'MRAM', 'MRCC', 'MRCY', 'MREO', 'MRIN', 'MRKR', 'MRM', 'MRNA', 'MRNS', 'MRSN', 'MRTX', 'MRVI', 'MSBI', 'MSGM', 'MSTR', 'MTACW', 'MTBC', 'MTC', 'MTCR', 'MTEM', 'MTEX', 'MTLS', 'MTP', 'MTRX', 'MTTR', 'MUDSU', 'MUDSW', 'MULN', 'MVBF', 'MVIS', 'MVST', 'MXCT', 'MXL', 'MYGN', 'MYMD', 'MYNA', 'MYNZ', 'MYPS', 'MYPSW', 'MYSZ', 'NAOV', 'NATI', 'NAUT', 'NAVI', 'NBEV', 'NBN', 'NBRV', 'NBSE', 'NBTX', 'NCMI', 'NCNA', 'NCNO', 'NCSM', 'NCTY', 'NDLS', 'NDRA', 'NEGG', 'NEO', 'NEON', 'NEPH', 'NEPT', 'NERV', 'NESR', 'NEWT', 'NEXI', 'NEXT', 'NFE', 'NGM', 'NGMS', 'NH', 'NHTC', 'NISN', 'NIU', 'NKLA', 'NKTR', 'NKTX', 'NLSP', 'NLSPW', 'NLTX', 'NMFC', 'NMIH', 'NMRD', 'NMRK', 'NMTC', 'NMTR', 'NN', 'NNBR', 'NNDM', 'NNOX', 'NOACW', 'NOTV', 'NOVN', 'NPCE', 'NRBO', 'NRC', 'NRDS', 'NRIM', 'NRIX', 'NRSN', 'NRXP', 'NSIT', 'NSPR', 'NSSC', 'NSTG', 'NTIC', 'NTLA', 'NTNX', 'NTRA', 'NTRB', 'NTRBW', 'NTUS', 'NTWK', 'NURO', 'NUVA', 'NUVL', 'NUWE', 'NUZE', 'NVAX', 'NVCN', 'NVCR', 'NVEE', 'NVEI', 'NVFY', 'NVIV', 'NVNO', 'NVNOW', 'NVOS', 'NVTS', 'NVTSW', 'NVVE', 'NWLI', 'NXGN', 'NXPI', 'NXPL', 'NXST', 'NXTC', 'NXTD', 'NXTP', 'NYMT', 'NYMTM', 'NYMTN', 'NYMX', 'OAS', 'OBCI', 'OBLG', 'OBNK', 'OBSV', 'OCCI', 'OCFC', 'OCG', 'OCGN', 'OCSL', 'OCUL', 'OCUP', 'OCX', 'OEG', 'OESX', 'OFIX', 'OFS', 'OGI', 'OIIM', 'OLB', 'OLED', 'OLK', 'OLLI', 'OLMA', 'OMAB', 'OMER', 'OMGA', 'OMIC', 'OMQS', 'ON', 'ONCR', 'ONCS', 'ONCT', 'ONCY', 'ONDS', 'ONEM', 'ONEW', 'ONTX', 'ONVO', 'OP', 'OPCH', 'OPEN', 'OPGN', 'OPK', 'OPNT', 'OPOF', 'OPRA', 'OPRT', 'OPRX', 'OPT', 'OPTN', 'ORGN', 'ORGO', 'ORGS', 'ORIC', 'ORMP', 'ORPH', 'ORTX', 'OSBC', 'OSPN', 'OSS', 'OSTK', 'OSTRW', 'OSUR', 'OSW', 'OTECW', 'OTIC', 'OTLK', 'OTLY', 'OTMO', 'OTRK', 'OTRKP', 'OVBC', 'OVID', 'OXBR', 'OXLC', 'OXLCM', 'OXLCP', 'OXSQ', 'OYST', 'OZON', 'PAA', 'PAAS', 'PACB', 'PACW', 'PAGP', 'PALI', 'PALT', 'PARA', 'PARAA', 'PASG', 'PATI', 'PATK', 'PAVM', 'PAYA', 'PAYO', 'PAYS', 'PBLA', 'PBPB', 'PBTS', 'PBYI', 'PCB', 'PCOM', 'PCSA', 'PCT', 'PCTI', 'PCTTU', 'PCTY', 'PCVX', 'PDCE', 'PDD', 'PDEX', 'PDSB', 'PEAR', 'PEBK', 'PECO', 'PENN', 'PERI', 'PESI', 'PETQ', 'PETS', 'PETV', 'PETZ', 'PFBC', 'PFC', 'PFG', 'PFIE', 'PFLT', 'PFMT', 'PFSW', 'PFX', 'PGC', 'PGEN', 'PGJ', 'PGNY', 'PHAR', 'PHAS', 'PHAT', 'PHCF', 'PHICW', 'PHIO', 'PHUN', 'PHVS', 'PI', 'PIII', 'PIK', 'PIRS', 'PIXY', 'PKBK', 'PKOH', 'PLAY', 'PLBY', 'PLCE', 'PLL', 'PLMR', 'PLRX', 'PLSE', 'PLTK', 'PLUG', 'PLXP', 'PLXS', 'PLYA', 'PMCB', 'PMD', 'PME', 'PMTS', 'PMVP', 'PNBK', 'PNFP', 'PNNT', 'PNRG', 'PNT', 'PNTG', 'POAI', 'POLA', 'POSH', 'POTX', 'POWL', 'POWW', 'PPBI', 'PPBT', 'PPC', 'PPSI', 'PPTA', 'PRAX', 'PRCH', 'PRCT', 'PRDO', 'PRDS', 'PRFT', 'PRFX', 'PRIM', 'PRLD', 'PROF', 'PROG', 'PRPH', 'PRPL', 'PRPO', 'PRQR', 'PRSO', 'PRTA', 'PRTG', 'PRTH', 'PRTK', 'PRTS', 'PRVA', 'PRVB', 'PSCD', 'PSCE', 'PSHG', 'PSNL', 'PSTI', 'PSTV', 'PSTX', 'PT', 'PTE', 'PTEN', 'PTGX', 'PTICW', 'PTIX', 'PTLO', 'PTMN', 'PTON', 'PTPI', 'PTRA', 'PTSI', 'PUBM', 'PULM', 'PWFL', 'PXI', 'PXLW', 'PXS', 'PXSAP', 'PYPD', 'PYPL', 'PYR', 'PYXS', 'QDEL', 'QFIN', 'QH', 'QIPT', 'QIWI', 'QK', 'QLGN', 'QLI', 'QMCO', 'QNRX', 'QNST', 'QRHC', 'QRTEA', 'QRTEB', 'QSI', 'QTEK', 'QTNT', 'QTRX', 'QTT', 'QUBT', 'QUIK', 'QUMU', 'QURE', 'RADA', 'RAIL', 'RAIN', 'RAND', 'RANI', 'RAPT', 'RARE', 'RAVE', 'RBBN', 'RCAT', 'RCEL', 'RCII', 'RCKT', 'RCMT', 'RCON', 'RCRT', 'RDBX', 'RDFN', 'RDHL', 'RDI', 'RDNT', 'RDUS', 'REAL', 'REDU', 'REE', 'REEAW', 'REED', 'REFR', 'REGI', 'REKR', 'RELI', 'RELY', 'RENO', 'RENT', 'REPH', 'REPL', 'RESN', 'RETA', 'RETO', 'REVB', 'RGC', 'RGF', 'RGLS', 'RGNX', 'RIBT', 'RICK', 'RIDE', 'RIGL', 'RILYM', 'RILYN', 'RILYO', 'RILYP', 'RIOT', 'RIVN', 'RKDA', 'RKLB', 'RLAY', 'RLMD', 'RLYB', 'RMBL', 'RMCF', 'RMNI', 'RMR', 'RMTI', 'RNA', 'RNAZ', 'RNDB', 'RNLX', 'RNW', 'RNWK', 'RNWWW', 'RNXT', 'ROCC', 'ROCK', 'ROIC', 'ROIV', 'ROKU', 'ROLL', 'ROOT', 'ROST', 'ROVR', 'RPHM', 'RPID', 'RPTX', 'RRGB', 'RRR', 'RSLS', 'RSVR', 'RSVRW', 'RTL', 'RTLPP', 'RTLR', 'RUBY', 'RUN', 'RUSHB', 'RUTH', 'RVLP', 'RVMD', 'RVNC', 'RVPH', 'RVSB', 'RWLK', 'RXRX', 'RXT', 'RYAAY', 'RYTM', 'RZLT', 'SABR', 'SABRP', 'SABS', 'SAGE', 'SALM', 'SANA', 'SANG', 'SANW', 'SASR', 'SATL', 'SATS', 'SAVA', 'SBCF', 'SBET', 'SBGI', 'SBLK', 'SBNY', 'SBRA', 'SBT', 'SBTX', 'SCKT', 'SCOAW', 'SCOR', 'SCPH', 'SCPS', 'SCSC', 'SCVL', 'SCWX', 'SCYX', 'SDC', 'SDGR', 'SDH', 'SDIG', 'SEAC', 'SEATW', 'SECO', 'SEDG', 'SEED', 'SEEL', 'SEER', 'SELB', 'SERA', 'SESN', 'SEV', 'SEVN', 'SFBC', 'SFET', 'SFIX', 'SFT', 'SGBX', 'SGC', 'SGH', 'SGHT', 'SGLB', 'SGLY', 'SGMA', 'SGMO', 'SGMS', 'SGRP', 'SGRY', 'SGTX', 'SHBI', 'SHCAW', 'SHCR', 'SHCRW', 'SHEN', 'SHIP', 'SHLS', 'SHOO', 'SHYF', 'SIBN', 'SIDU', 'SIEB', 'SIEN', 'SIFY', 'SILK', 'SINT', 'SIOX', 'SISI', 'SIVB', 'SIVBP', 'SJ', 'SKIN', 'SKYT', 'SKYU', 'SKYW', 'SLDB', 'SLDP', 'SLGG', 'SLGL', 'SLHG', 'SLM', 'SLMBP', 'SLNG', 'SLNH', 'SLNO', 'SLP', 'SLRC', 'SLRX', 'SLS', 'SMED', 'SMFL', 'SMFR', 'SMID', 'SMIT', 'SMLR', 'SMMT', 'SMSI', 'SMTC', 'SMTI', 'SNAX', 'SNBR', 'SNCR', 'SND', 'SNDL', 'SNES', 'SNGX', 'SNOA', 'SNPX', 'SNSE', 'SNT', 'SNTG', 'SOFI', 'SOFO', 'SOHO', 'SOHOB', 'SOHON', 'SOHOO', 'SOHU', 'SOLO', 'SOND', 'SONM', 'SONN', 'SONO', 'SOPA', 'SP', 'SPCB', 'SPI', 'SPKAR', 'SPLK', 'SPNE', 'SPPI', 'SPRB', 'SPRO', 'SPT', 'SPWH', 'SPWR', 'SQL', 'SQQQ', 'SRAD', 'SRET', 'SREV', 'SRGA', 'SRNE', 'SRPT', 'SRRA', 'SRRK', 'SRSAW', 'SRTS', 'SRZN', 'SSB', 'SSKN', 'SSNT', 'SSP', 'SSTI', 'SSYS', 'STAA', 'STAB', 'STAF', 'STBA', 'STCN', 'STFC', 'STGW', 'STIM', 'STKL', 'STKS', 'STLD', 'STNE', 'STOK', 'STRA', 'STRL', 'STRM', 'STRN', 'STRO', 'STRR', 'STRS', 'STRT', 'STSA', 'STTK', 'STXB', 'SUMO', 'SUMR', 'SUNS', 'SUNW', 'SURF', 'SURG', 'SVC', 'SVFAW', 'SVFD', 'SVRA', 'SVVC', 'SWAV', 'SWBI', 'SWIM', 'SWIR', 'SWTX', 'SXTC', 'SY', 'SYBX', 'SYNH', 'SYNL', 'SYPR', 'SYRS', 'SYTA', 'TA', 'TACO', 'TACT', 'TALK', 'TALS', 'TANH', 'TANNI', 'TANNL', 'TANNZ', 'TAOP', 'TARA', 'TARS', 'TASK', 'TAST', 'TBBK', 'TBK', 'TBLT', 'TBLTW', 'TBPH', 'TC', 'TCBI', 'TCDA', 'TCMD', 'TCOM', 'TCON', 'TCPC', 'TCRR', 'TCRT', 'TCRX', 'TDUP', 'TEDU', 'TEKKW', 'TELA', 'TENX', 'TERN', 'TESS', 'TFFP', 'TGA', 'TGAN', 'TGLS', 'TGTX', 'TH', 'THMO', 'THRN', 'THRX', 'THTX', 'TIG', 'TIGO', 'TIGR', 'TIL', 'TILE', 'TIRX', 'TITN', 'TIVC', 'TKLF', 'TKNO', 'TLIS', 'TLMD', 'TLRY', 'TLS', 'TLSA', 'TMC', 'TMCI', 'TMCWW', 'TMDI', 'TMDX', 'TNGX', 'TNXP', 'TNYA', 'TOI', 'TOMZ', 'TOPS', 'TOUR', 'TPIC', 'TPST', 'TPTX', 'TQQQ', 'TRDA', 'TREE', 'TRHC', 'TRIB', 'TRIP', 'TRKA', 'TRMB', 'TROO', 'TRUE', 'TRUP', 'TRVG', 'TRVI', 'TRVN', 'TSAT', 'TSBK', 'TSC', 'TSCBP', 'TSHA', 'TSLA', 'TSP', 'TSRI', 'TSVT', 'TTCF', 'TTD', 'TTNP', 'TTOO', 'TTSH', 'TUEM', 'TURN', 'TUSK', 'TVTX', 'TVTY', 'TWIN', 'TWOU', 'TWST', 'TXG', 'TXMD', 'TXRH', 'TYME', 'TYRA', 'TZOO', 'UAL', 'UBFO', 'UBX', 'UCL', 'UCTT', 'UDMY', 'UEIC', 'UFCS', 'UGRO', 'UIHC', 'UK', 'ULBI', 'ULTA', 'UNAM', 'UNB', 'UNCY', 'UNIT', 'UNTY', 'UONE', 'UONEK', 'UPC', 'UPLD', 'UPST', 'UPWK', 'URBN', 'URGN', 'USAK', 'USAP', 'USAU', 'USEG', 'USIO', 'USOI', 'USWS', 'UTME', 'UTRS', 'UTSI', 'UXIN', 'VACC', 'VALN', 'VAXX', 'VBIV', 'VBLT', 'VBTX', 'VC', 'VCEL', 'VCNX', 'VCYT', 'VECO', 'VECT', 'VEEE', 'VEON', 'VERA', 'VERB', 'VERI', 'VERO', 'VERU', 'VERV', 'VERX', 'VERY', 'VEV', 'VFF', 'VG', 'VGFC', 'VIASP', 'VIEW', 'VINC', 'VINO', 'VIOT', 'VIR', 'VIRC', 'VIRI', 'VIRX', 'VISL', 'VITL', 'VIVE', 'VIVK', 'VIVO', 'VJET', 'VKTX', 'VLCN', 'VLDR', 'VLDRW', 'VLON', 'VMAR', 'VMD', 'VMEO', 'VNDA', 'VNET', 'VNOM', 'VOR', 'VOXX', 'VQS', 'VRA', 'VRAR', 'VRAY', 'VRCA', 'VRDN', 'VREX', 'VRM', 'VRME', 'VRNA', 'VRNS', 'VRPX', 'VRRM', 'VRTS', 'VS', 'VSAT', 'VSEC', 'VSSYW', 'VSTA', 'VSTM', 'VTGN', 'VTIQW', 'VTNR', 'VTSI', 'VTVT', 'VTYX', 'VUZI', 'VVOS', 'VVPR', 'VXRT', 'VYGR', 'VYNE', 'VYNT', 'WAFU', 'WALDW', 'WATT', 'WAVD', 'WAVE', 'WB', 'WBND', 'WDC', 'WEJO', 'WEN', 'WETF', 'WFCF', 'WHF', 'WHLM', 'WHLR', 'WHLRD', 'WHLRP', 'WIMI', 'WING', 'WINT', 'WISA', 'WISH', 'WIX', 'WKEY', 'WKHS', 'WKME', 'WKSP', 'WLDN', 'WLFC', 'WMPN', 'WNEB', 'WNW', 'WORX', 'WPRT', 'WRAP', 'WRLD', 'WSBC', 'WSC', 'WSFS', 'WTER', 'WTFC', 'WTRH', 'WULF', 'WVE', 'WVVI', 'WW', 'WWD', 'WYNN', 'XAIR', 'XBIO', 'XBIOW', 'XBIT', 'XCUR', 'XELA', 'XELB', 'XENE', 'XENT', 'XERS', 'XFOR', 'XGN', 'XLO', 'XM', 'XMTR', 'XNET', 'XOMA', 'XOS', 'XP', 'XPEL', 'XRTX', 'XRX', 'XSPA', 'XTLB', 'XXII', 'YELL', 'YGMZ', 'YI', 'YJ', 'YMAB', 'YMTX', 'YNDX', 'YQ', 'YTEN', 'YTRA', 'YVR', 'YY', 'Z', 'ZCMD', 'ZEAL', 'ZENV', 'ZEST', 'ZEUS', 'ZG', 'ZGNX', 'ZION', 'ZIVO', 'ZKIN', 'ZLAB', 'ZM', 'ZNGA', 'ZNTEW', 'ZNTL', 'ZSAN', 'ZUMZ', 'ZVO', 'ZY', 'ZYNE', 'ZYXI']\n"
          ]
        }
      ],
      "source": [
        "import yfinance as yf\n",
        "import matplotlib.pyplot as plt\n",
        "import pandas as pd\n",
        "import yahoo_fin.stock_info as si\n",
        "import numpy as np\n",
        "\n",
        "tickers = si.tickers_nasdaq()\n",
        "pc = 50/100\n",
        "l = []\n",
        "\n",
        "for i in range(len(tickers)):\n",
        "    df=yf.download(tickers[i],'2020-01-01', progress=False)['Close']\n",
        "    dfm=df.cummax()\n",
        "    scom= (np.where(df<=(1-pc)*dfm,1,0))\n",
        "    if scom.sum() != 0:\n",
        "        l.append(tickers[i])\n",
        "print(l)"
      ]
    },
    {
      "cell_type": "code",
      "source": [
        "print(\"Número de empresas con una caída >= 50%:\", len(l), \"de un total de:\",len(tickers))"
      ],
      "metadata": {
        "colab": {
          "base_uri": "https://localhost:8080/"
        },
        "id": "pGy27pfFvUoG",
        "outputId": "5d5b3cfe-7d17-4e51-d048-efc78185792c"
      },
      "execution_count": null,
      "outputs": [
        {
          "output_type": "stream",
          "name": "stdout",
          "text": [
            "Número de empresas con una caída >= 50%: 2611 de un total de: 5581\n"
          ]
        }
      ]
    }
  ]
}