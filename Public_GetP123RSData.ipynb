{
  "nbformat": 4,
  "nbformat_minor": 0,
  "metadata": {
    "colab": {
      "name": "Public GetP123RSData.ipynb",
      "provenance": [],
      "collapsed_sections": [],
      "include_colab_link": true
    },
    "kernelspec": {
      "name": "python3",
      "display_name": "Python 3"
    }
  },
  "cells": [
    {
      "cell_type": "markdown",
      "metadata": {
        "id": "view-in-github",
        "colab_type": "text"
      },
      "source": [
        "<a href=\"https://colab.research.google.com/github/ZonaQuant/Notebooks/blob/main/Public_GetP123RSData.ipynb\" target=\"_parent\"><img src=\"https://colab.research.google.com/assets/colab-badge.svg\" alt=\"Open In Colab\"/></a>"
      ]
    },
    {
      "cell_type": "code",
      "metadata": {
        "id": "Bp_Yq_UYzg4p"
      },
      "source": [
        "# Portfolio123 Parameters\n",
        "ApiKey = 'xxxxxxxxxxxxxxxxxxxxxxx'\n",
        "ApiId = 'yy'\n",
        "\n",
        "RankingSystemID = 000000 # Portfolio123 Ranking System ID\n",
        "Universe = 'zzzzzz'  \n",
        "StartDate = '20200715' # YYYYMMDD\n",
        "EndDate = '20201001' # YYYYMMDD\n",
        "Freq = 'M' # Frequency of update M: Monthly, W-SAT: Weekly on Saturday\n",
        "\n",
        "# Google Drive locations\n",
        "GoogleDrive = '/content/gdrive/My Drive/Colab Notebooks/Modules/' # directory URL\n",
        "GoogleDriveDataFile ='AIProjectData3.csv' # Name of file data is saved to\n"
      ],
      "execution_count": null,
      "outputs": []
    },
    {
      "cell_type": "code",
      "metadata": {
        "colab": {
          "base_uri": "https://localhost:8080/"
        },
        "id": "QO96Su_tBPL5",
        "outputId": "5b562ee2-62e9-4ebe-eacc-5d5cd205dbc4"
      },
      "source": [
        "#%%capture\n",
        "\n",
        "# python libraries and options\n",
        "import numpy as np\n",
        "from numpy import random\n",
        "import pandas as pd\n",
        "import math\n",
        "pd.set_option('display.max_columns', 7)\n",
        "from sklearn.metrics import r2_score\n",
        "from scipy import stats\n",
        "import matplotlib.pyplot as plt\n",
        "\n",
        "# Set p Google Drive\n",
        "from google.colab import drive\n",
        "drive.mount('/content/gdrive')\n",
        "import sys\n",
        "sys.path.append(GoogleDrive)\n",
        "\n",
        "# install Portfolio123 API\n",
        "!pip install p123api\n",
        "from p123api import Client, ClientException"
      ],
      "execution_count": null,
      "outputs": [
        {
          "output_type": "stream",
          "text": [
            "Drive already mounted at /content/gdrive; to attempt to forcibly remount, call drive.mount(\"/content/gdrive\", force_remount=True).\n",
            "Requirement already satisfied: p123api in /usr/local/lib/python3.6/dist-packages (1.0.10)\n"
          ],
          "name": "stdout"
        }
      ]
    },
    {
      "cell_type": "code",
      "metadata": {
        "id": "rXGMNJrIBjTw",
        "colab": {
          "base_uri": "https://localhost:8080/"
        },
        "outputId": "c2742da6-2cc4-46ca-d17f-3b58a2adfb11"
      },
      "source": [
        "DateListObj = pd.date_range(start=StartDate, end=EndDate, freq=Freq)\n",
        "DateList = DateListObj.strftime(\"%Y-%m-%d\").values\n",
        "MaxAttempts = 10\n",
        "AttemptCount = 0\n",
        "DataFileValid = False\n",
        "for RunDate in DateList:\n",
        "  if AttemptCount < MaxAttempts:\n",
        "    print(RunDate)\n",
        "    client = Client(api_id=ApiId, api_key=ApiKey)\n",
        "    ValidData = False\n",
        "  while (AttemptCount < MaxAttempts) and (ValidData == False):\n",
        "    try:\n",
        "      RankData = client.rank_ranks({\"pitMethod\": \"Complete\",'rankingSystem': RankingSystemID, 'asOfDt': RunDate, 'universe': Universe, \"nodeDetails\": 'factor'})\n",
        "      ValidData = True\n",
        "    except ClientException as e:\n",
        "      AttemptCount += 1\n",
        "      print(\"p123api fail count: \", AttemptCount)\n",
        "      print(e)\n",
        "  if ValidData == True:\n",
        "    DataFileValid = True\n",
        "    RankDate = RankData['dt']\n",
        "    tickers = RankData['tickers']\n",
        "    Nodes = RankData['nodes']\n",
        "    NodeNames = Nodes['names']\n",
        "    NodeRanks = Nodes['ranks']\n",
        "    Datafile=pd.DataFrame(data=NodeRanks, columns=NodeNames)\n",
        "    del Datafile[NodeNames[0]]\n",
        "    Datafile.insert(0, \"Date\", RunDate, True) \n",
        "    Datafile.insert(1, \"Ticker\", tickers, True)\n",
        "    if RunDate != DateList[0]:\n",
        "      result = result.append(Datafile, ignore_index=True, sort=False)\n",
        "    else:\n",
        "      result = Datafile\n",
        "if DataFileValid == True:\n",
        "  print(result)\n",
        "  result.to_csv(GoogleDrive+GoogleDriveDataFile)\n",
        "\n"
      ],
      "execution_count": null,
      "outputs": [
        {
          "output_type": "stream",
          "text": [
            "2020-07-31\n",
            "2020-08-31\n",
            "2020-09-30\n",
            "            Date Ticker  Input1  ...  Input9  Random       Target\n",
            "0     2020-07-31   COUP   90.09  ...   29.53   70.03 -100000000.0\n",
            "1     2020-07-31   TWLO   96.33  ...   78.55    4.52 -100000000.0\n",
            "2     2020-07-31    RNG   91.20  ...   50.68   92.42 -100000000.0\n",
            "3     2020-07-31   SHOP   99.39  ...   17.21   25.71 -100000000.0\n",
            "4     2020-07-31   CLDR   48.03  ...   70.79   13.60 -100000000.0\n",
            "...          ...    ...     ...  ...     ...     ...          ...\n",
            "1083  2020-09-30   DSPG    8.19  ...   38.94    9.56 -100000000.0\n",
            "1084  2020-09-30   AUTO    5.62  ...   70.40   80.61 -100000000.0\n",
            "1085  2020-09-30   SYNC    4.34  ...   76.12    5.88 -100000000.0\n",
            "1086  2020-09-30  NINOY    7.92  ...   37.03   12.32 -100000000.0\n",
            "1087  2020-09-30   IMAX   14.08  ...   61.92   11.29 -100000000.0\n",
            "\n",
            "[1088 rows x 13 columns]\n"
          ],
          "name": "stdout"
        }
      ]
    }
  ]
}