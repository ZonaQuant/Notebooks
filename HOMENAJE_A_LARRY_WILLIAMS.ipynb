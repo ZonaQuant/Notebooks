{
  "nbformat": 4,
  "nbformat_minor": 0,
  "metadata": {
    "colab": {
      "provenance": [],
      "toc_visible": true,
      "include_colab_link": true
    },
    "kernelspec": {
      "name": "python3",
      "display_name": "Python 3"
    },
    "language_info": {
      "name": "python"
    }
  },
  "cells": [
    {
      "cell_type": "markdown",
      "metadata": {
        "id": "view-in-github",
        "colab_type": "text"
      },
      "source": [
        "<a href=\"https://colab.research.google.com/github/ZonaQuant/Notebooks/blob/main/HOMENAJE_A_LARRY_WILLIAMS.ipynb\" target=\"_parent\"><img src=\"https://colab.research.google.com/assets/colab-badge.svg\" alt=\"Open In Colab\"/></a>"
      ]
    },
    {
      "cell_type": "markdown",
      "source": [
        "#0. PREÁMBULO\n",
        "\n",
        "**Larry Williams** fue un pionero del **trading algorítmico** y generó indicadores como el **Williams %R**, que en mi modesta opinión es el mejor de todos.\n",
        "\n",
        "Vamos a intentar demostrarlo montando una estrategia sólo a base del **Williams %R**... y un poquito de **machine learning**.\n",
        "\n"
      ],
      "metadata": {
        "id": "TmTiYTMy6N5n"
      }
    },
    {
      "cell_type": "markdown",
      "source": [
        "#1. LIBRERÍAS"
      ],
      "metadata": {
        "id": "fR2wQEZw6NdV"
      }
    },
    {
      "cell_type": "markdown",
      "source": [
        "##1.1 INSTALACIÓN DE LIBRERÍAS"
      ],
      "metadata": {
        "id": "RBhR4nZr66PD"
      }
    },
    {
      "cell_type": "code",
      "source": [
        "#INSTALAMOS YAHOO FINANCE PARA OBTENER HISTÓRICOS\n",
        "!pip install yfinance \n",
        "\n",
        "#INSTALAMOS TA-LIB PARA CALCULAR EL INDICADOR WILLIAMS %R\n",
        "url = 'https://launchpad.net/~mario-mariomedina/+archive/ubuntu/talib/+files'\n",
        "ext = '0.4.0-oneiric1_amd64.deb -qO'\n",
        "!wget $url/libta-lib0_$ext libta.deb\n",
        "!wget $url/ta-lib0-dev_$ext ta.deb\n",
        "!dpkg -i libta.deb ta.deb\n",
        "!pip install ta-lib"
      ],
      "metadata": {
        "colab": {
          "base_uri": "https://localhost:8080/"
        },
        "id": "nC-y1c_r65RC",
        "outputId": "4e4a8e35-bf37-4c8c-92d4-7b588da6fcf8"
      },
      "execution_count": null,
      "outputs": [
        {
          "output_type": "stream",
          "name": "stdout",
          "text": [
            "Looking in indexes: https://pypi.org/simple, https://us-python.pkg.dev/colab-wheels/public/simple/\n",
            "Collecting yfinance\n",
            "  Downloading yfinance-0.1.87-py2.py3-none-any.whl (29 kB)\n",
            "Requirement already satisfied: pandas>=0.24.0 in /usr/local/lib/python3.8/dist-packages (from yfinance) (1.3.5)\n",
            "Requirement already satisfied: numpy>=1.15 in /usr/local/lib/python3.8/dist-packages (from yfinance) (1.21.6)\n",
            "Collecting requests>=2.26\n",
            "  Downloading requests-2.28.1-py3-none-any.whl (62 kB)\n",
            "\u001b[K     |████████████████████████████████| 62 kB 719 kB/s \n",
            "\u001b[?25hRequirement already satisfied: appdirs>=1.4.4 in /usr/local/lib/python3.8/dist-packages (from yfinance) (1.4.4)\n",
            "Requirement already satisfied: multitasking>=0.0.7 in /usr/local/lib/python3.8/dist-packages (from yfinance) (0.0.11)\n",
            "Requirement already satisfied: lxml>=4.5.1 in /usr/local/lib/python3.8/dist-packages (from yfinance) (4.9.1)\n",
            "Requirement already satisfied: python-dateutil>=2.7.3 in /usr/local/lib/python3.8/dist-packages (from pandas>=0.24.0->yfinance) (2.8.2)\n",
            "Requirement already satisfied: pytz>=2017.3 in /usr/local/lib/python3.8/dist-packages (from pandas>=0.24.0->yfinance) (2022.6)\n",
            "Requirement already satisfied: six>=1.5 in /usr/local/lib/python3.8/dist-packages (from python-dateutil>=2.7.3->pandas>=0.24.0->yfinance) (1.15.0)\n",
            "Requirement already satisfied: idna<4,>=2.5 in /usr/local/lib/python3.8/dist-packages (from requests>=2.26->yfinance) (2.10)\n",
            "Requirement already satisfied: urllib3<1.27,>=1.21.1 in /usr/local/lib/python3.8/dist-packages (from requests>=2.26->yfinance) (1.24.3)\n",
            "Requirement already satisfied: charset-normalizer<3,>=2 in /usr/local/lib/python3.8/dist-packages (from requests>=2.26->yfinance) (2.1.1)\n",
            "Requirement already satisfied: certifi>=2017.4.17 in /usr/local/lib/python3.8/dist-packages (from requests>=2.26->yfinance) (2022.9.24)\n",
            "Installing collected packages: requests, yfinance\n",
            "  Attempting uninstall: requests\n",
            "    Found existing installation: requests 2.23.0\n",
            "    Uninstalling requests-2.23.0:\n",
            "      Successfully uninstalled requests-2.23.0\n",
            "Successfully installed requests-2.28.1 yfinance-0.1.87\n",
            "Selecting previously unselected package libta-lib0.\n",
            "(Reading database ... 124013 files and directories currently installed.)\n",
            "Preparing to unpack libta.deb ...\n",
            "Unpacking libta-lib0 (0.4.0-oneiric1) ...\n",
            "Selecting previously unselected package ta-lib0-dev.\n",
            "Preparing to unpack ta.deb ...\n",
            "Unpacking ta-lib0-dev (0.4.0-oneiric1) ...\n",
            "Setting up libta-lib0 (0.4.0-oneiric1) ...\n",
            "Setting up ta-lib0-dev (0.4.0-oneiric1) ...\n",
            "Processing triggers for man-db (2.8.3-2ubuntu0.1) ...\n",
            "Processing triggers for libc-bin (2.27-3ubuntu1.6) ...\n",
            "Looking in indexes: https://pypi.org/simple, https://us-python.pkg.dev/colab-wheels/public/simple/\n",
            "Collecting ta-lib\n",
            "  Downloading TA-Lib-0.4.25.tar.gz (271 kB)\n",
            "\u001b[K     |████████████████████████████████| 271 kB 5.0 MB/s \n",
            "\u001b[?25h  Installing build dependencies ... \u001b[?25l\u001b[?25hdone\n",
            "  Getting requirements to build wheel ... \u001b[?25l\u001b[?25hdone\n",
            "  Installing backend dependencies ... \u001b[?25l\u001b[?25hdone\n",
            "    Preparing wheel metadata ... \u001b[?25l\u001b[?25hdone\n",
            "Requirement already satisfied: numpy in /usr/local/lib/python3.8/dist-packages (from ta-lib) (1.21.6)\n",
            "Building wheels for collected packages: ta-lib\n",
            "  Building wheel for ta-lib (PEP 517) ... \u001b[?25l\u001b[?25hdone\n",
            "  Created wheel for ta-lib: filename=TA_Lib-0.4.25-cp38-cp38-linux_x86_64.whl size=1820856 sha256=a5855660ef545e8f602eb8276215f7a47fe09bb33bd6e84cc4a4f61e90619db6\n",
            "  Stored in directory: /root/.cache/pip/wheels/da/72/bf/464831127ee8d6d9a5b76340a6a2f115182e159309dc3067ca\n",
            "Successfully built ta-lib\n",
            "Installing collected packages: ta-lib\n",
            "Successfully installed ta-lib-0.4.25\n"
          ]
        }
      ]
    },
    {
      "cell_type": "markdown",
      "source": [
        "##1.2. IMPORTACIÓN DE LIBRERÍAS"
      ],
      "metadata": {
        "id": "s8jkb4DJ7NMy"
      }
    },
    {
      "cell_type": "code",
      "execution_count": null,
      "metadata": {
        "id": "IlpzjrHs55pe"
      },
      "outputs": [],
      "source": [
        "import yfinance as yf\n",
        "import talib as tl\n",
        "import numpy as np\n",
        "import pandas as pd\n",
        "from datetime import datetime\n",
        "import datetime as dt\n",
        "import matplotlib.pyplot as plt\n",
        "from sklearn.ensemble import RandomForestRegressor"
      ]
    },
    {
      "cell_type": "markdown",
      "source": [
        "#2. VARIABLES"
      ],
      "metadata": {
        "id": "TZxaREQl7iNJ"
      }
    },
    {
      "cell_type": "code",
      "source": [
        "#DEFINIMOS VARIABLES\n",
        "ticker = \"EURCHF=X\"\n",
        "periodo_total = 3650\n",
        "periodo_oos = 365"
      ],
      "metadata": {
        "id": "KeP46Rbh7wOh"
      },
      "execution_count": null,
      "outputs": []
    },
    {
      "cell_type": "markdown",
      "source": [
        "#3. DATOS"
      ],
      "metadata": {
        "id": "uU4SRLv681uf"
      }
    },
    {
      "cell_type": "code",
      "source": [
        "#OBTENEMOS Y DAMOS FORMATO A LAS FECHAS INICIAL Y FINAL\n",
        "today = datetime.today() \n",
        "initial = today - dt.timedelta(days=periodo_total) \n",
        "today = today.strftime('%Y-%m-%d')\n",
        "initial = initial.strftime('%Y-%m-%d')\n",
        "#DESCARGAMOS DATOS HISTÓRICOS\n",
        "data = yf.download(ticker, start=initial, end=today, progress=False)\n",
        "#ELIMINAMOS COLUMNAS INÚTILES\n",
        "data = data.drop(columns=[\"Adj Close\",\"Volume\"])\n",
        "#CALCULAMOS RETORNO A UN DÍA VISTA EN PIPS\n",
        "data[\"Return\"] = (data[\"Close\"].shift(-1) - data[\"Close\"]) * 10000\n",
        "#ELIMINAMOS NANS\n",
        "data = data.dropna()\n",
        "#MOSTRAMOS DATOS\n",
        "data.head(5)"
      ],
      "metadata": {
        "colab": {
          "base_uri": "https://localhost:8080/",
          "height": 301
        },
        "id": "ib1MoZC57hKR",
        "outputId": "2d534a29-5259-4d8e-aa55-b9a3fc3f30cb"
      },
      "execution_count": null,
      "outputs": [
        {
          "output_type": "execute_result",
          "data": {
            "text/plain": [
              "              Open     High     Low    Close     Return\n",
              "Date                                                   \n",
              "2012-12-14  1.2079  1.20917  1.2074  1.20780  10.999441\n",
              "2012-12-17  1.2090  1.20950  1.2072  1.20890  -7.599592\n",
              "2012-12-18  1.2080  1.20880  1.2065  1.20814  -4.400015\n",
              "2012-12-19  1.2079  1.21000  1.2073  1.20770  -5.099773\n",
              "2012-12-20  1.2072  1.20835  1.2070  1.20719   0.100136"
            ],
            "text/html": [
              "\n",
              "  <div id=\"df-9839838e-6aba-4b9f-a71d-c96516074763\">\n",
              "    <div class=\"colab-df-container\">\n",
              "      <div>\n",
              "<style scoped>\n",
              "    .dataframe tbody tr th:only-of-type {\n",
              "        vertical-align: middle;\n",
              "    }\n",
              "\n",
              "    .dataframe tbody tr th {\n",
              "        vertical-align: top;\n",
              "    }\n",
              "\n",
              "    .dataframe thead th {\n",
              "        text-align: right;\n",
              "    }\n",
              "</style>\n",
              "<table border=\"1\" class=\"dataframe\">\n",
              "  <thead>\n",
              "    <tr style=\"text-align: right;\">\n",
              "      <th></th>\n",
              "      <th>Open</th>\n",
              "      <th>High</th>\n",
              "      <th>Low</th>\n",
              "      <th>Close</th>\n",
              "      <th>Return</th>\n",
              "    </tr>\n",
              "    <tr>\n",
              "      <th>Date</th>\n",
              "      <th></th>\n",
              "      <th></th>\n",
              "      <th></th>\n",
              "      <th></th>\n",
              "      <th></th>\n",
              "    </tr>\n",
              "  </thead>\n",
              "  <tbody>\n",
              "    <tr>\n",
              "      <th>2012-12-14</th>\n",
              "      <td>1.2079</td>\n",
              "      <td>1.20917</td>\n",
              "      <td>1.2074</td>\n",
              "      <td>1.20780</td>\n",
              "      <td>10.999441</td>\n",
              "    </tr>\n",
              "    <tr>\n",
              "      <th>2012-12-17</th>\n",
              "      <td>1.2090</td>\n",
              "      <td>1.20950</td>\n",
              "      <td>1.2072</td>\n",
              "      <td>1.20890</td>\n",
              "      <td>-7.599592</td>\n",
              "    </tr>\n",
              "    <tr>\n",
              "      <th>2012-12-18</th>\n",
              "      <td>1.2080</td>\n",
              "      <td>1.20880</td>\n",
              "      <td>1.2065</td>\n",
              "      <td>1.20814</td>\n",
              "      <td>-4.400015</td>\n",
              "    </tr>\n",
              "    <tr>\n",
              "      <th>2012-12-19</th>\n",
              "      <td>1.2079</td>\n",
              "      <td>1.21000</td>\n",
              "      <td>1.2073</td>\n",
              "      <td>1.20770</td>\n",
              "      <td>-5.099773</td>\n",
              "    </tr>\n",
              "    <tr>\n",
              "      <th>2012-12-20</th>\n",
              "      <td>1.2072</td>\n",
              "      <td>1.20835</td>\n",
              "      <td>1.2070</td>\n",
              "      <td>1.20719</td>\n",
              "      <td>0.100136</td>\n",
              "    </tr>\n",
              "  </tbody>\n",
              "</table>\n",
              "</div>\n",
              "      <button class=\"colab-df-convert\" onclick=\"convertToInteractive('df-9839838e-6aba-4b9f-a71d-c96516074763')\"\n",
              "              title=\"Convert this dataframe to an interactive table.\"\n",
              "              style=\"display:none;\">\n",
              "        \n",
              "  <svg xmlns=\"http://www.w3.org/2000/svg\" height=\"24px\"viewBox=\"0 0 24 24\"\n",
              "       width=\"24px\">\n",
              "    <path d=\"M0 0h24v24H0V0z\" fill=\"none\"/>\n",
              "    <path d=\"M18.56 5.44l.94 2.06.94-2.06 2.06-.94-2.06-.94-.94-2.06-.94 2.06-2.06.94zm-11 1L8.5 8.5l.94-2.06 2.06-.94-2.06-.94L8.5 2.5l-.94 2.06-2.06.94zm10 10l.94 2.06.94-2.06 2.06-.94-2.06-.94-.94-2.06-.94 2.06-2.06.94z\"/><path d=\"M17.41 7.96l-1.37-1.37c-.4-.4-.92-.59-1.43-.59-.52 0-1.04.2-1.43.59L10.3 9.45l-7.72 7.72c-.78.78-.78 2.05 0 2.83L4 21.41c.39.39.9.59 1.41.59.51 0 1.02-.2 1.41-.59l7.78-7.78 2.81-2.81c.8-.78.8-2.07 0-2.86zM5.41 20L4 18.59l7.72-7.72 1.47 1.35L5.41 20z\"/>\n",
              "  </svg>\n",
              "      </button>\n",
              "      \n",
              "  <style>\n",
              "    .colab-df-container {\n",
              "      display:flex;\n",
              "      flex-wrap:wrap;\n",
              "      gap: 12px;\n",
              "    }\n",
              "\n",
              "    .colab-df-convert {\n",
              "      background-color: #E8F0FE;\n",
              "      border: none;\n",
              "      border-radius: 50%;\n",
              "      cursor: pointer;\n",
              "      display: none;\n",
              "      fill: #1967D2;\n",
              "      height: 32px;\n",
              "      padding: 0 0 0 0;\n",
              "      width: 32px;\n",
              "    }\n",
              "\n",
              "    .colab-df-convert:hover {\n",
              "      background-color: #E2EBFA;\n",
              "      box-shadow: 0px 1px 2px rgba(60, 64, 67, 0.3), 0px 1px 3px 1px rgba(60, 64, 67, 0.15);\n",
              "      fill: #174EA6;\n",
              "    }\n",
              "\n",
              "    [theme=dark] .colab-df-convert {\n",
              "      background-color: #3B4455;\n",
              "      fill: #D2E3FC;\n",
              "    }\n",
              "\n",
              "    [theme=dark] .colab-df-convert:hover {\n",
              "      background-color: #434B5C;\n",
              "      box-shadow: 0px 1px 3px 1px rgba(0, 0, 0, 0.15);\n",
              "      filter: drop-shadow(0px 1px 2px rgba(0, 0, 0, 0.3));\n",
              "      fill: #FFFFFF;\n",
              "    }\n",
              "  </style>\n",
              "\n",
              "      <script>\n",
              "        const buttonEl =\n",
              "          document.querySelector('#df-9839838e-6aba-4b9f-a71d-c96516074763 button.colab-df-convert');\n",
              "        buttonEl.style.display =\n",
              "          google.colab.kernel.accessAllowed ? 'block' : 'none';\n",
              "\n",
              "        async function convertToInteractive(key) {\n",
              "          const element = document.querySelector('#df-9839838e-6aba-4b9f-a71d-c96516074763');\n",
              "          const dataTable =\n",
              "            await google.colab.kernel.invokeFunction('convertToInteractive',\n",
              "                                                     [key], {});\n",
              "          if (!dataTable) return;\n",
              "\n",
              "          const docLinkHtml = 'Like what you see? Visit the ' +\n",
              "            '<a target=\"_blank\" href=https://colab.research.google.com/notebooks/data_table.ipynb>data table notebook</a>'\n",
              "            + ' to learn more about interactive tables.';\n",
              "          element.innerHTML = '';\n",
              "          dataTable['output_type'] = 'display_data';\n",
              "          await google.colab.output.renderOutput(dataTable, element);\n",
              "          const docLink = document.createElement('div');\n",
              "          docLink.innerHTML = docLinkHtml;\n",
              "          element.appendChild(docLink);\n",
              "        }\n",
              "      </script>\n",
              "    </div>\n",
              "  </div>\n",
              "  "
            ]
          },
          "metadata": {},
          "execution_count": 41
        }
      ]
    },
    {
      "cell_type": "markdown",
      "source": [
        "#4. WILLIAMS %R"
      ],
      "metadata": {
        "id": "Q7W6Axcv8lln"
      }
    },
    {
      "cell_type": "code",
      "source": [
        "#PREPARAMOS DATOS PARA CALCULAR WILLIAMS %R CON LA LIBRERÍA TA-LIB\n",
        "high = np.array(data[\"High\"])\n",
        "low = np.array(data[\"Low\"])\n",
        "close = np.array(data[\"Close\"])\n",
        "\n",
        "#CALCULAMOS WILLIAMS %R PARA UN RANGO DE PARÁMETROS Y GUARDAMOS EN LISTAS\n",
        "wr = []\n",
        "wr_columns = []  \n",
        "periods = list(range(5,200))\n",
        "for n in periods:\n",
        "  name = \"WR\" + str(n)\n",
        "  wr.append(pd.Series(tl.WILLR(high, low, close, timeperiod=n)))\n",
        "  wr_columns.append(name)\n",
        "\n",
        "#CREAMOS DATAFRAME \n",
        "df_wr = pd.concat(wr, axis=1)\n",
        "df_wr.columns = wr_columns\n",
        "df_wr.index = data.index\n",
        "df_wr[\"Close\"] = data[\"Close\"]\n",
        "df_wr[\"Return\"] = data[\"Return\"]\n",
        "\n",
        "df_wr.tail(5)"
      ],
      "metadata": {
        "colab": {
          "base_uri": "https://localhost:8080/",
          "height": 331
        },
        "id": "nwsRZT0y9F-Q",
        "outputId": "2dfeae28-58b7-49d3-824c-6bdf5f2fa148"
      },
      "execution_count": null,
      "outputs": [
        {
          "output_type": "execute_result",
          "data": {
            "text/plain": [
              "                  WR5        WR6        WR7        WR8        WR9       WR10  \\\n",
              "Date                                                                           \n",
              "2022-12-02 -30.395987 -30.395987 -30.395987 -24.365045 -24.365045 -24.365045   \n",
              "2022-12-05 -29.611461 -29.611461 -29.611461 -29.611461 -24.537544 -24.537544   \n",
              "2022-12-06 -14.640327 -14.640327 -14.640327 -14.640327 -14.640327 -12.131710   \n",
              "2022-12-07 -56.516957 -40.529588 -40.529588 -40.529588 -40.529588 -40.529588   \n",
              "2022-12-08 -28.056371 -27.797524 -19.934233 -19.934233 -19.934233 -19.934233   \n",
              "\n",
              "                 WR11       WR12       WR13       WR14  ...      WR192  \\\n",
              "Date                                                    ...              \n",
              "2022-12-02 -24.365045 -24.365045 -24.365045 -19.935054  ... -60.464456   \n",
              "2022-12-05 -24.537544 -24.537544 -24.537544 -24.537544  ... -59.100542   \n",
              "2022-12-06 -12.131710 -12.131710 -12.131710 -12.131710  ... -57.432480   \n",
              "2022-12-07 -33.584852 -33.584852 -33.584852 -33.584852  ... -60.317023   \n",
              "2022-12-08 -19.934233 -16.518506 -16.518506 -16.518506  ... -58.022319   \n",
              "\n",
              "                WR193      WR194      WR195      WR196      WR197      WR198  \\\n",
              "Date                                                                           \n",
              "2022-12-02 -60.464456 -60.464456 -60.464456 -60.464456 -60.464456 -60.464456   \n",
              "2022-12-05 -59.100542 -59.100542 -59.100542 -59.100542 -59.100542 -59.100542   \n",
              "2022-12-06 -57.432480 -57.432480 -57.432480 -57.432480 -57.432480 -57.432480   \n",
              "2022-12-07 -60.317023 -60.317023 -60.317023 -60.317023 -60.317023 -60.317023   \n",
              "2022-12-08 -58.022319 -58.022319 -58.022319 -58.022319 -58.022319 -58.022319   \n",
              "\n",
              "                WR199    Close     Return  \n",
              "Date                                       \n",
              "2022-12-02 -60.464456  0.98583  14.799833  \n",
              "2022-12-05 -59.100542  0.98731  18.100142  \n",
              "2022-12-06 -57.432480  0.98912 -31.300187  \n",
              "2022-12-07 -60.317023  0.98599  24.899840  \n",
              "2022-12-08 -58.022319  0.98848  -5.499721  \n",
              "\n",
              "[5 rows x 197 columns]"
            ],
            "text/html": [
              "\n",
              "  <div id=\"df-176cbd56-4c03-46b8-b642-998e1e68dbc1\">\n",
              "    <div class=\"colab-df-container\">\n",
              "      <div>\n",
              "<style scoped>\n",
              "    .dataframe tbody tr th:only-of-type {\n",
              "        vertical-align: middle;\n",
              "    }\n",
              "\n",
              "    .dataframe tbody tr th {\n",
              "        vertical-align: top;\n",
              "    }\n",
              "\n",
              "    .dataframe thead th {\n",
              "        text-align: right;\n",
              "    }\n",
              "</style>\n",
              "<table border=\"1\" class=\"dataframe\">\n",
              "  <thead>\n",
              "    <tr style=\"text-align: right;\">\n",
              "      <th></th>\n",
              "      <th>WR5</th>\n",
              "      <th>WR6</th>\n",
              "      <th>WR7</th>\n",
              "      <th>WR8</th>\n",
              "      <th>WR9</th>\n",
              "      <th>WR10</th>\n",
              "      <th>WR11</th>\n",
              "      <th>WR12</th>\n",
              "      <th>WR13</th>\n",
              "      <th>WR14</th>\n",
              "      <th>...</th>\n",
              "      <th>WR192</th>\n",
              "      <th>WR193</th>\n",
              "      <th>WR194</th>\n",
              "      <th>WR195</th>\n",
              "      <th>WR196</th>\n",
              "      <th>WR197</th>\n",
              "      <th>WR198</th>\n",
              "      <th>WR199</th>\n",
              "      <th>Close</th>\n",
              "      <th>Return</th>\n",
              "    </tr>\n",
              "    <tr>\n",
              "      <th>Date</th>\n",
              "      <th></th>\n",
              "      <th></th>\n",
              "      <th></th>\n",
              "      <th></th>\n",
              "      <th></th>\n",
              "      <th></th>\n",
              "      <th></th>\n",
              "      <th></th>\n",
              "      <th></th>\n",
              "      <th></th>\n",
              "      <th></th>\n",
              "      <th></th>\n",
              "      <th></th>\n",
              "      <th></th>\n",
              "      <th></th>\n",
              "      <th></th>\n",
              "      <th></th>\n",
              "      <th></th>\n",
              "      <th></th>\n",
              "      <th></th>\n",
              "      <th></th>\n",
              "    </tr>\n",
              "  </thead>\n",
              "  <tbody>\n",
              "    <tr>\n",
              "      <th>2022-12-02</th>\n",
              "      <td>-30.395987</td>\n",
              "      <td>-30.395987</td>\n",
              "      <td>-30.395987</td>\n",
              "      <td>-24.365045</td>\n",
              "      <td>-24.365045</td>\n",
              "      <td>-24.365045</td>\n",
              "      <td>-24.365045</td>\n",
              "      <td>-24.365045</td>\n",
              "      <td>-24.365045</td>\n",
              "      <td>-19.935054</td>\n",
              "      <td>...</td>\n",
              "      <td>-60.464456</td>\n",
              "      <td>-60.464456</td>\n",
              "      <td>-60.464456</td>\n",
              "      <td>-60.464456</td>\n",
              "      <td>-60.464456</td>\n",
              "      <td>-60.464456</td>\n",
              "      <td>-60.464456</td>\n",
              "      <td>-60.464456</td>\n",
              "      <td>0.98583</td>\n",
              "      <td>14.799833</td>\n",
              "    </tr>\n",
              "    <tr>\n",
              "      <th>2022-12-05</th>\n",
              "      <td>-29.611461</td>\n",
              "      <td>-29.611461</td>\n",
              "      <td>-29.611461</td>\n",
              "      <td>-29.611461</td>\n",
              "      <td>-24.537544</td>\n",
              "      <td>-24.537544</td>\n",
              "      <td>-24.537544</td>\n",
              "      <td>-24.537544</td>\n",
              "      <td>-24.537544</td>\n",
              "      <td>-24.537544</td>\n",
              "      <td>...</td>\n",
              "      <td>-59.100542</td>\n",
              "      <td>-59.100542</td>\n",
              "      <td>-59.100542</td>\n",
              "      <td>-59.100542</td>\n",
              "      <td>-59.100542</td>\n",
              "      <td>-59.100542</td>\n",
              "      <td>-59.100542</td>\n",
              "      <td>-59.100542</td>\n",
              "      <td>0.98731</td>\n",
              "      <td>18.100142</td>\n",
              "    </tr>\n",
              "    <tr>\n",
              "      <th>2022-12-06</th>\n",
              "      <td>-14.640327</td>\n",
              "      <td>-14.640327</td>\n",
              "      <td>-14.640327</td>\n",
              "      <td>-14.640327</td>\n",
              "      <td>-14.640327</td>\n",
              "      <td>-12.131710</td>\n",
              "      <td>-12.131710</td>\n",
              "      <td>-12.131710</td>\n",
              "      <td>-12.131710</td>\n",
              "      <td>-12.131710</td>\n",
              "      <td>...</td>\n",
              "      <td>-57.432480</td>\n",
              "      <td>-57.432480</td>\n",
              "      <td>-57.432480</td>\n",
              "      <td>-57.432480</td>\n",
              "      <td>-57.432480</td>\n",
              "      <td>-57.432480</td>\n",
              "      <td>-57.432480</td>\n",
              "      <td>-57.432480</td>\n",
              "      <td>0.98912</td>\n",
              "      <td>-31.300187</td>\n",
              "    </tr>\n",
              "    <tr>\n",
              "      <th>2022-12-07</th>\n",
              "      <td>-56.516957</td>\n",
              "      <td>-40.529588</td>\n",
              "      <td>-40.529588</td>\n",
              "      <td>-40.529588</td>\n",
              "      <td>-40.529588</td>\n",
              "      <td>-40.529588</td>\n",
              "      <td>-33.584852</td>\n",
              "      <td>-33.584852</td>\n",
              "      <td>-33.584852</td>\n",
              "      <td>-33.584852</td>\n",
              "      <td>...</td>\n",
              "      <td>-60.317023</td>\n",
              "      <td>-60.317023</td>\n",
              "      <td>-60.317023</td>\n",
              "      <td>-60.317023</td>\n",
              "      <td>-60.317023</td>\n",
              "      <td>-60.317023</td>\n",
              "      <td>-60.317023</td>\n",
              "      <td>-60.317023</td>\n",
              "      <td>0.98599</td>\n",
              "      <td>24.899840</td>\n",
              "    </tr>\n",
              "    <tr>\n",
              "      <th>2022-12-08</th>\n",
              "      <td>-28.056371</td>\n",
              "      <td>-27.797524</td>\n",
              "      <td>-19.934233</td>\n",
              "      <td>-19.934233</td>\n",
              "      <td>-19.934233</td>\n",
              "      <td>-19.934233</td>\n",
              "      <td>-19.934233</td>\n",
              "      <td>-16.518506</td>\n",
              "      <td>-16.518506</td>\n",
              "      <td>-16.518506</td>\n",
              "      <td>...</td>\n",
              "      <td>-58.022319</td>\n",
              "      <td>-58.022319</td>\n",
              "      <td>-58.022319</td>\n",
              "      <td>-58.022319</td>\n",
              "      <td>-58.022319</td>\n",
              "      <td>-58.022319</td>\n",
              "      <td>-58.022319</td>\n",
              "      <td>-58.022319</td>\n",
              "      <td>0.98848</td>\n",
              "      <td>-5.499721</td>\n",
              "    </tr>\n",
              "  </tbody>\n",
              "</table>\n",
              "<p>5 rows × 197 columns</p>\n",
              "</div>\n",
              "      <button class=\"colab-df-convert\" onclick=\"convertToInteractive('df-176cbd56-4c03-46b8-b642-998e1e68dbc1')\"\n",
              "              title=\"Convert this dataframe to an interactive table.\"\n",
              "              style=\"display:none;\">\n",
              "        \n",
              "  <svg xmlns=\"http://www.w3.org/2000/svg\" height=\"24px\"viewBox=\"0 0 24 24\"\n",
              "       width=\"24px\">\n",
              "    <path d=\"M0 0h24v24H0V0z\" fill=\"none\"/>\n",
              "    <path d=\"M18.56 5.44l.94 2.06.94-2.06 2.06-.94-2.06-.94-.94-2.06-.94 2.06-2.06.94zm-11 1L8.5 8.5l.94-2.06 2.06-.94-2.06-.94L8.5 2.5l-.94 2.06-2.06.94zm10 10l.94 2.06.94-2.06 2.06-.94-2.06-.94-.94-2.06-.94 2.06-2.06.94z\"/><path d=\"M17.41 7.96l-1.37-1.37c-.4-.4-.92-.59-1.43-.59-.52 0-1.04.2-1.43.59L10.3 9.45l-7.72 7.72c-.78.78-.78 2.05 0 2.83L4 21.41c.39.39.9.59 1.41.59.51 0 1.02-.2 1.41-.59l7.78-7.78 2.81-2.81c.8-.78.8-2.07 0-2.86zM5.41 20L4 18.59l7.72-7.72 1.47 1.35L5.41 20z\"/>\n",
              "  </svg>\n",
              "      </button>\n",
              "      \n",
              "  <style>\n",
              "    .colab-df-container {\n",
              "      display:flex;\n",
              "      flex-wrap:wrap;\n",
              "      gap: 12px;\n",
              "    }\n",
              "\n",
              "    .colab-df-convert {\n",
              "      background-color: #E8F0FE;\n",
              "      border: none;\n",
              "      border-radius: 50%;\n",
              "      cursor: pointer;\n",
              "      display: none;\n",
              "      fill: #1967D2;\n",
              "      height: 32px;\n",
              "      padding: 0 0 0 0;\n",
              "      width: 32px;\n",
              "    }\n",
              "\n",
              "    .colab-df-convert:hover {\n",
              "      background-color: #E2EBFA;\n",
              "      box-shadow: 0px 1px 2px rgba(60, 64, 67, 0.3), 0px 1px 3px 1px rgba(60, 64, 67, 0.15);\n",
              "      fill: #174EA6;\n",
              "    }\n",
              "\n",
              "    [theme=dark] .colab-df-convert {\n",
              "      background-color: #3B4455;\n",
              "      fill: #D2E3FC;\n",
              "    }\n",
              "\n",
              "    [theme=dark] .colab-df-convert:hover {\n",
              "      background-color: #434B5C;\n",
              "      box-shadow: 0px 1px 3px 1px rgba(0, 0, 0, 0.15);\n",
              "      filter: drop-shadow(0px 1px 2px rgba(0, 0, 0, 0.3));\n",
              "      fill: #FFFFFF;\n",
              "    }\n",
              "  </style>\n",
              "\n",
              "      <script>\n",
              "        const buttonEl =\n",
              "          document.querySelector('#df-176cbd56-4c03-46b8-b642-998e1e68dbc1 button.colab-df-convert');\n",
              "        buttonEl.style.display =\n",
              "          google.colab.kernel.accessAllowed ? 'block' : 'none';\n",
              "\n",
              "        async function convertToInteractive(key) {\n",
              "          const element = document.querySelector('#df-176cbd56-4c03-46b8-b642-998e1e68dbc1');\n",
              "          const dataTable =\n",
              "            await google.colab.kernel.invokeFunction('convertToInteractive',\n",
              "                                                     [key], {});\n",
              "          if (!dataTable) return;\n",
              "\n",
              "          const docLinkHtml = 'Like what you see? Visit the ' +\n",
              "            '<a target=\"_blank\" href=https://colab.research.google.com/notebooks/data_table.ipynb>data table notebook</a>'\n",
              "            + ' to learn more about interactive tables.';\n",
              "          element.innerHTML = '';\n",
              "          dataTable['output_type'] = 'display_data';\n",
              "          await google.colab.output.renderOutput(dataTable, element);\n",
              "          const docLink = document.createElement('div');\n",
              "          docLink.innerHTML = docLinkHtml;\n",
              "          element.appendChild(docLink);\n",
              "        }\n",
              "      </script>\n",
              "    </div>\n",
              "  </div>\n",
              "  "
            ]
          },
          "metadata": {},
          "execution_count": 42
        }
      ]
    },
    {
      "cell_type": "markdown",
      "source": [
        "#5. PARTICIÓN"
      ],
      "metadata": {
        "id": "sRccHHtd9r0k"
      }
    },
    {
      "cell_type": "code",
      "source": [
        "#SEPARAMOS DATOS OUT OF SAMPLE DE LOS DATOS IN SAMPLE\n",
        "df_wr_oos = df_wr.tail(periodo_oos)\n",
        "df_wr_is = df_wr.drop(df_wr_oos.index)"
      ],
      "metadata": {
        "id": "4ZfOGx9i9uIc"
      },
      "execution_count": null,
      "outputs": []
    },
    {
      "cell_type": "markdown",
      "source": [
        "#6. RANDOM FOREST"
      ],
      "metadata": {
        "id": "_tu4_s3N-B-V"
      }
    },
    {
      "cell_type": "code",
      "source": [
        "#ELIMINAMOS NANS \n",
        "df_wr_is = df_wr_is.dropna()\n",
        "\n",
        "#SEPARAMOS FEATURES DE LABEL\n",
        "X = df_wr_is.iloc[:,:-2]\n",
        "Y = df_wr_is[\"Return\"]\n",
        "\n",
        "#ENTRENAMOS RANDOM FOREST\n",
        "regressor_wr = RandomForestRegressor()\n",
        "regressor_wr.fit(X,Y)\n",
        "\n",
        "#OBTENEMOS PREDICCIONES DEL MODELO\n",
        "df_wr_is[\"Predict_RF\"] = regressor_wr.predict(X)\n",
        "\n",
        "#COMPROBAMOS LA CORRELACIÓN ENTRE LAS PREDICCIONES Y LOS RETORNOS CON DATOS IN SAMPLE\n",
        "correlacion = df_wr_is[\"Predict_RF\"].corr(df_wr_is[\"Return\"])\n",
        "print(\"Correlación con datos in sample entre el modelo y los retornos: \", correlacion)"
      ],
      "metadata": {
        "colab": {
          "base_uri": "https://localhost:8080/"
        },
        "id": "lrLz9UtB-Bbj",
        "outputId": "b831c0e6-7121-45a1-ab79-a02791d17f91"
      },
      "execution_count": null,
      "outputs": [
        {
          "output_type": "stream",
          "name": "stdout",
          "text": [
            "Correlación con datos in sample entre el modelo y los retornos:  0.9294038671091888\n"
          ]
        }
      ]
    },
    {
      "cell_type": "markdown",
      "source": [
        "#7. OOS"
      ],
      "metadata": {
        "id": "-zgrCFDe--pK"
      }
    },
    {
      "cell_type": "code",
      "source": [
        "#OBTENEMOS PREDICCIONES CON DATOS OUT OF SAMPLE\n",
        "X_oos_wr = df_wr_oos.iloc[:,:-2]\n",
        "predict_wr = regressor_wr.predict(X_oos_wr)\n",
        "\n",
        "#GENERAMOS DATA FRAME CON LAS PREDICCIONES CON DATOS OUT OF SAMPLE\n",
        "oos = pd.DataFrame({\"meta_wr\": predict_wr})\n",
        "oos.index = df_wr_oos.index\n",
        "oos[\"Return\"] = df_wr_oos[\"Return\"]\n",
        "\n",
        "#COMPROBAMOS LA CORRELACIÓN ENTRE LAS PREDICCIONES Y LOS RETORNOS CON DATOS OUT OF SAMPLE\n",
        "cor_oos = oos[\"meta_wr\"].corr(oos[\"Return\"])\n",
        "print(\"Correlación con datos out of sample entre el modelo y los retornos: \", cor_oos)"
      ],
      "metadata": {
        "colab": {
          "base_uri": "https://localhost:8080/"
        },
        "id": "mfIodr95_Au5",
        "outputId": "9eefd975-24dc-48b7-a340-132e6340191c"
      },
      "execution_count": null,
      "outputs": [
        {
          "output_type": "stream",
          "name": "stdout",
          "text": [
            "Correlación con datos out of sample entre el modelo y los retornos:  0.30479032661176303\n"
          ]
        }
      ]
    },
    {
      "cell_type": "markdown",
      "source": [
        "#8. BACKTEST"
      ],
      "metadata": {
        "id": "_qgjlpb0AXV_"
      }
    },
    {
      "cell_type": "markdown",
      "source": [
        "##8.1. SEÑALES "
      ],
      "metadata": {
        "id": "03wW_5JOBH6F"
      }
    },
    {
      "cell_type": "code",
      "source": [
        "#GENERAMOS SEÑALES PARA OPERACIONES BAJISTAS\n",
        "oos[\"Signal_short\"] = np.where(oos[\"meta_wr\"]<10,-1,0)\n",
        "oos[\"Signal_short\"] = oos[\"Signal_short\"] * oos[\"Return\"] \n",
        "\n",
        "#GENERAMOS SEÑALES PARA OPERACIONES ALCISTAS\n",
        "oos[\"Signal_long\"] = np.where(oos[\"meta_wr\"]>10,1,0)\n",
        "oos[\"Signal_long\"] = oos[\"Signal_long\"] * oos[\"Return\"] "
      ],
      "metadata": {
        "id": "t0SKyrlJAWxY"
      },
      "execution_count": null,
      "outputs": []
    },
    {
      "cell_type": "markdown",
      "source": [
        "##8.2. EQUITY"
      ],
      "metadata": {
        "id": "S-Z57-wJBOrV"
      }
    },
    {
      "cell_type": "code",
      "source": [
        "#GENERAMOS EQUITY PARA OPERACIONES ALCISTAS\n",
        "oos[\"Equity_long\"] = oos[\"Signal_long\"].cumsum()\n",
        "\n",
        "#CALCULAMOS EQUITY PARA LAS OPERACIONES BAJISTAS\n",
        "oos[\"Equity_short\"] = oos[\"Signal_short\"].cumsum()\n",
        "\n",
        "#CALCULAMOS EQUITY PARA OPERACIONES ALCISTAS Y BAJISTAS EQUIPONDERADAS\n",
        "oos[\"Equity\"] = (oos[\"Equity_long\"] + oos[\"Equity_short\"]) / 2"
      ],
      "metadata": {
        "id": "6CRiWcKJA44u"
      },
      "execution_count": null,
      "outputs": []
    },
    {
      "cell_type": "markdown",
      "source": [
        "##8.3. GRÁFICOS"
      ],
      "metadata": {
        "id": "Tl4wpZ5vBjb1"
      }
    },
    {
      "cell_type": "code",
      "source": [
        "plt.plot(oos[\"Equity_long\"])\n",
        "plt.title(\"OPERACIONES ALCISTAS\")\n",
        "plt.show()"
      ],
      "metadata": {
        "colab": {
          "base_uri": "https://localhost:8080/",
          "height": 54
        },
        "id": "gJ4CRpaeBm9N",
        "outputId": "1eaf5a59-e2f9-4b00-ee5c-b522abe482f9"
      },
      "execution_count": null,
      "outputs": [
        {
          "output_type": "display_data",
          "data": {
            "text/plain": [
              "<Figure size 432x288 with 1 Axes>"
            ],
            "image/png": "[encoded data removed]"
          },
          "metadata": {
            "needs_background": "light"
          }
        }
      ]
    },
    {
      "cell_type": "code",
      "source": [
        "plt.plot(oos[\"Equity_short\"])\n",
        "plt.title(\"OPERACIONES BAJISTAS\")\n",
        "plt.show()"
      ],
      "metadata": {
        "colab": {
          "base_uri": "https://localhost:8080/",
          "height": 54
        },
        "id": "9Mu12bwrBuqm",
        "outputId": "8847092b-2226-4577-8299-7c48c45601b3"
      },
      "execution_count": null,
      "outputs": [
        {
          "output_type": "display_data",
          "data": {
            "text/plain": [
              "<Figure size 432x288 with 1 Axes>"
            ],
            "image/png": "[encoded data removed]"
          },
          "metadata": {
            "needs_background": "light"
          }
        }
      ]
    },
    {
      "cell_type": "code",
      "source": [
        "plt.figure(figsize=(10,5))\n",
        "plt.plot(oos[\"Equity\"])\n",
        "plt.title(\"OPERACIONES ALCISTAS Y BAJISTAS\")\n",
        "plt.show()"
      ],
      "metadata": {
        "colab": {
          "base_uri": "https://localhost:8080/",
          "height": 336
        },
        "id": "bhNuz-wTB273",
        "outputId": "67c780f4-7c52-4d10-9900-04ecc09b161e"
      },
      "execution_count": null,
      "outputs": [
        {
          "output_type": "display_data",
          "data": {
            "text/plain": [
              "<Figure size 720x360 with 1 Axes>"
            ],
            "image/png": "[encoded data removed]"
          },
          "metadata": {
            "needs_background": "light"
          }
        }
      ]
    },
    {
      "cell_type": "code",
      "source": [
        "oos[\"Equity\"][-1]"
      ],
      "metadata": {
        "colab": {
          "base_uri": "https://localhost:8080/"
        },
        "id": "NjImi687RPfb",
        "outputId": "e53a5ec0-96de-4382-b3aa-fe535483596d"
      },
      "execution_count": null,
      "outputs": [
        {
          "output_type": "execute_result",
          "data": {
            "text/plain": [
              "1479.1497588157654"
            ]
          },
          "metadata": {},
          "execution_count": 51
        }
      ]
    }
  ]
}