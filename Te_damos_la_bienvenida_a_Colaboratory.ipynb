{
  "cells": [
    {
      "cell_type": "markdown",
      "metadata": {
        "id": "view-in-github",
        "colab_type": "text"
      },
      "source": [
        "<a href=\"https://colab.research.google.com/github/ZonaQuant/Notebooks/blob/main/Te_damos_la_bienvenida_a_Colaboratory.ipynb\" target=\"_parent\"><img src=\"https://colab.research.google.com/assets/colab-badge.svg\" alt=\"Open In Colab\"/></a>"
      ]
    },
    {
      "cell_type": "code",
      "source": [
        "!pip install p123api\n",
        "\n",
        "\n",
        "try:\n",
        "    client = p123api.Client(api_id= '42', api_key='6671de78fbf56abb7a171dbd34e6f499')  #Replace with your API id and key\n",
        "\n",
        "    print(client.rank_ranks(\n",
        "        {\n",
        "            \"rankingSystem\": \"Core: Value\",\n",
        "            \"asOfDt\": \"2020-11-12\",\n",
        "            # Optional parameters\n",
        "            \"pitMethod\": \"Prelim\",  #Prelim or Complete\n",
        "            \"precision\": 2,  # 2,3,4\n",
        "            \"rankingMethod\": 2, #2-Percentile NAs Negative, 4-Percentile NAs Neutral\n",
        "            \"universe\": \"DJIA\",\n",
        "            \"tickers\": \"IBM,MSFT\",\n",
        "            \"includeNames\": False,\n",
        "            \"includeNaCnt\": False,\n",
        "            \"includeFinalStmt\": False,\n",
        "            \"nodeDetails\": \"composite\",\n",
        "            \"additionalData\": [\"Close(0)\",\"mktcap\",\"ZScore(\\\"Pr2SalesQ\\\",#All)\"]\n",
        "        }\n",
        "        ))\n",
        "except p123api.ClientException as e:\n",
        "    print(e)\n"
      ],
      "metadata": {
        "id": "SD8uzWDeUaEH",
        "outputId": "8bcb973b-28c8-4612-c36f-895e517b75d0",
        "colab": {
          "base_uri": "https://localhost:8080/",
          "height": 408
        }
      },
      "execution_count": 4,
      "outputs": [
        {
          "output_type": "stream",
          "name": "stdout",
          "text": [
            "Requirement already satisfied: p123api in /usr/local/lib/python3.7/dist-packages (1.3.1)\n"
          ]
        },
        {
          "output_type": "error",
          "ename": "NameError",
          "evalue": "ignored",
          "traceback": [
            "\u001b[0;31m---------------------------------------------------------------------------\u001b[0m",
            "\u001b[0;31mNameError\u001b[0m                                 Traceback (most recent call last)",
            "\u001b[0;32m<ipython-input-4-73d47e5cf723>\u001b[0m in \u001b[0;36m<module>\u001b[0;34m()\u001b[0m\n\u001b[1;32m      4\u001b[0m \u001b[0;32mtry\u001b[0m\u001b[0;34m:\u001b[0m\u001b[0;34m\u001b[0m\u001b[0;34m\u001b[0m\u001b[0m\n\u001b[0;32m----> 5\u001b[0;31m     \u001b[0mclient\u001b[0m \u001b[0;34m=\u001b[0m \u001b[0mp123api\u001b[0m\u001b[0;34m.\u001b[0m\u001b[0mClient\u001b[0m\u001b[0;34m(\u001b[0m\u001b[0mapi_id\u001b[0m\u001b[0;34m=\u001b[0m \u001b[0;34m'42'\u001b[0m\u001b[0;34m,\u001b[0m \u001b[0mapi_key\u001b[0m\u001b[0;34m=\u001b[0m\u001b[0;34m'6671de78fbf56abb7a171dbd34e6f499'\u001b[0m\u001b[0;34m)\u001b[0m  \u001b[0;31m#Replace with your API id and key\u001b[0m\u001b[0;34m\u001b[0m\u001b[0;34m\u001b[0m\u001b[0m\n\u001b[0m\u001b[1;32m      6\u001b[0m \u001b[0;34m\u001b[0m\u001b[0m\n",
            "\u001b[0;31mNameError\u001b[0m: name 'p123api' is not defined",
            "\nDuring handling of the above exception, another exception occurred:\n",
            "\u001b[0;31mNameError\u001b[0m                                 Traceback (most recent call last)",
            "\u001b[0;32m<ipython-input-4-73d47e5cf723>\u001b[0m in \u001b[0;36m<module>\u001b[0;34m()\u001b[0m\n\u001b[1;32m     22\u001b[0m         }\n\u001b[1;32m     23\u001b[0m         ))\n\u001b[0;32m---> 24\u001b[0;31m \u001b[0;32mexcept\u001b[0m \u001b[0mp123api\u001b[0m\u001b[0;34m.\u001b[0m\u001b[0mClientException\u001b[0m \u001b[0;32mas\u001b[0m \u001b[0me\u001b[0m\u001b[0;34m:\u001b[0m\u001b[0;34m\u001b[0m\u001b[0;34m\u001b[0m\u001b[0m\n\u001b[0m\u001b[1;32m     25\u001b[0m     \u001b[0mprint\u001b[0m\u001b[0;34m(\u001b[0m\u001b[0me\u001b[0m\u001b[0;34m)\u001b[0m\u001b[0;34m\u001b[0m\u001b[0;34m\u001b[0m\u001b[0m\n",
            "\u001b[0;31mNameError\u001b[0m: name 'p123api' is not defined"
          ]
        }
      ]
    }
  ],
  "metadata": {
    "colab": {
      "collapsed_sections": [],
      "name": "Te damos la bienvenida a Colaboratory",
      "toc_visible": true,
      "provenance": [],
      "include_colab_link": true
    },
    "kernelspec": {
      "display_name": "Python 3",
      "name": "python3"
    }
  },
  "nbformat": 4,
  "nbformat_minor": 0
}